{
 "cells": [
  {
   "source": [
    "## Importações"
   ],
   "cell_type": "markdown",
   "metadata": {}
  },
  {
   "cell_type": "code",
   "execution_count": 1,
   "metadata": {},
   "outputs": [],
   "source": [
    "import pandas as pd\n",
    "import numpy as np\n",
    "import re"
   ]
  },
  {
   "source": [
    "## Leitura do dataset base"
   ],
   "cell_type": "markdown",
   "metadata": {}
  },
  {
   "cell_type": "code",
   "execution_count": 2,
   "metadata": {
    "tags": []
   },
   "outputs": [
    {
     "output_type": "execute_result",
     "data": {
      "text/plain": [
       "             ID                         Name            Owner  \\\n",
       "0       2304420                  Bitcoin.org  bitcoin-dot-org   \n",
       "1       2724167                      rippled           ripple   \n",
       "2       2877991                block_browser           mhanne   \n",
       "3       3886965               bitcoin-wallet   bitcoin-wallet   \n",
       "4       3900173      unused-My-Wallet-iPhone       blockchain   \n",
       "...         ...                          ...              ...   \n",
       "1417  363445257                   machinaris         guydavis   \n",
       "1418  365701873                           ic          dfinity   \n",
       "1419  367841354        chaingreen-blockchain    ChainGreenOrg   \n",
       "1420  376155268  ultimate-defi-research-base       OffcierCia   \n",
       "1421  377341156              flax-blockchain     Flax-Network   \n",
       "\n",
       "                                            Description  \\\n",
       "0                                   Bitcoin.org Website   \n",
       "1     Decentralized cryptocurrency blockchain daemon...   \n",
       "2                            Bitcoin Blockchain Browser   \n",
       "3     Bitcoin Wallet app for your Android device. St...   \n",
       "4     For latest source, please see: https://github....   \n",
       "...                                                 ...   \n",
       "1417  An easy-to-use WebUI for Chia plotting and far...   \n",
       "1418  Internet Computer blockchain source: the clien...   \n",
       "1419                                                NaN   \n",
       "1420  Here we collect and discuss the best DeFI & Bl...   \n",
       "1421                                                NaN   \n",
       "\n",
       "                                                 topics  Stargazers  \\\n",
       "0              bitcoin, blockchain, cryptocurrency, p2p        1150   \n",
       "1     xrpl, xrp-ledger, xrp, cplusplus, c-plus-plus,...        3877   \n",
       "2                                                   NaN          51   \n",
       "3     bitcoin, bitcoinj, bitcoin-wallet, android, ja...        2475   \n",
       "4                                                   NaN         128   \n",
       "...                                                 ...         ...   \n",
       "1417  chia, plotting, webui, plotman, chia-network, ...         131   \n",
       "1418                                                NaN         653   \n",
       "1419                                                NaN          50   \n",
       "1420                                                NaN         164   \n",
       "1421                                                NaN          66   \n",
       "\n",
       "      Subscribers  Fork?  Forks Main Language  \\\n",
       "0             228  False   1931          HTML   \n",
       "1             506  False   1229           C++   \n",
       "2               7  False     22          Ruby   \n",
       "3             475  False   1660          Java   \n",
       "4              30  False     66      Assembly   \n",
       "...           ...    ...    ...           ...   \n",
       "1417           16  False     17        Python   \n",
       "1418           41  False     49          Rust   \n",
       "1419            7  False     21        Python   \n",
       "1420           11  False     19           NaN   \n",
       "1421           10  False     13        Python   \n",
       "\n",
       "                                              languages  Open Issues  \\\n",
       "0     HTML, SCSS, JavaScript, Less, Ruby, Shell, Mak...           70   \n",
       "1     C++, C, CMake, Shell, JavaScript, Java, Sage, ...          294   \n",
       "2             Ruby, HTML, CoffeeScript, CSS, JavaScript           11   \n",
       "3                                                  Java           86   \n",
       "4     Assembly, C, Objective-C, C++, HTML, Objective...            6   \n",
       "...                                                 ...          ...   \n",
       "1417         Python, HTML, Shell, PowerShell, CSS, Mako           19   \n",
       "1418  Rust, WebAssembly, Shell, Dockerfile, HTML, Mo...            0   \n",
       "1419              Python, Shell, PowerShell, Dockerfile           24   \n",
       "1420                                                NaN            0   \n",
       "1421                          Python, Shell, PowerShell            5   \n",
       "\n",
       "      Contributors        Last Push At          Created At          Updated At  \n",
       "0              334 2021-06-23 11:51:52 2011-08-31 21:58:01 2021-06-24 04:36:53  \n",
       "1               89 2021-06-23 09:11:32 2011-11-07 04:40:15 2021-06-25 17:08:35  \n",
       "2                2 2016-07-21 15:07:16 2011-11-29 20:44:00 2019-09-26 01:05:39  \n",
       "3               27 2021-05-30 15:13:32 2012-03-31 17:06:47 2021-06-26 07:22:42  \n",
       "4                9 2015-09-01 21:20:50 2012-04-02 12:01:57 2021-02-15 00:40:30  \n",
       "...            ...                 ...                 ...                 ...  \n",
       "1417             3 2021-06-27 19:58:47 2021-05-01 15:36:50 2021-06-27 19:10:49  \n",
       "1418             1 2021-06-24 09:00:37 2021-05-09 08:16:37 2021-06-27 18:52:09  \n",
       "1419            71 2021-06-24 12:15:26 2021-05-16 09:53:27 2021-06-27 18:09:29  \n",
       "1420             7 2021-06-25 00:44:38 2021-06-11 22:27:41 2021-06-27 18:50:43  \n",
       "1421            68 2021-06-21 08:58:06 2021-06-16 01:52:16 2021-06-27 18:11:25  \n",
       "\n",
       "[1422 rows x 16 columns]"
      ],
      "text/html": "<div>\n<style scoped>\n    .dataframe tbody tr th:only-of-type {\n        vertical-align: middle;\n    }\n\n    .dataframe tbody tr th {\n        vertical-align: top;\n    }\n\n    .dataframe thead th {\n        text-align: right;\n    }\n</style>\n<table border=\"1\" class=\"dataframe\">\n  <thead>\n    <tr style=\"text-align: right;\">\n      <th></th>\n      <th>ID</th>\n      <th>Name</th>\n      <th>Owner</th>\n      <th>Description</th>\n      <th>topics</th>\n      <th>Stargazers</th>\n      <th>Subscribers</th>\n      <th>Fork?</th>\n      <th>Forks</th>\n      <th>Main Language</th>\n      <th>languages</th>\n      <th>Open Issues</th>\n      <th>Contributors</th>\n      <th>Last Push At</th>\n      <th>Created At</th>\n      <th>Updated At</th>\n    </tr>\n  </thead>\n  <tbody>\n    <tr>\n      <th>0</th>\n      <td>2304420</td>\n      <td>Bitcoin.org</td>\n      <td>bitcoin-dot-org</td>\n      <td>Bitcoin.org Website</td>\n      <td>bitcoin, blockchain, cryptocurrency, p2p</td>\n      <td>1150</td>\n      <td>228</td>\n      <td>False</td>\n      <td>1931</td>\n      <td>HTML</td>\n      <td>HTML, SCSS, JavaScript, Less, Ruby, Shell, Mak...</td>\n      <td>70</td>\n      <td>334</td>\n      <td>2021-06-23 11:51:52</td>\n      <td>2011-08-31 21:58:01</td>\n      <td>2021-06-24 04:36:53</td>\n    </tr>\n    <tr>\n      <th>1</th>\n      <td>2724167</td>\n      <td>rippled</td>\n      <td>ripple</td>\n      <td>Decentralized cryptocurrency blockchain daemon...</td>\n      <td>xrpl, xrp-ledger, xrp, cplusplus, c-plus-plus,...</td>\n      <td>3877</td>\n      <td>506</td>\n      <td>False</td>\n      <td>1229</td>\n      <td>C++</td>\n      <td>C++, C, CMake, Shell, JavaScript, Java, Sage, ...</td>\n      <td>294</td>\n      <td>89</td>\n      <td>2021-06-23 09:11:32</td>\n      <td>2011-11-07 04:40:15</td>\n      <td>2021-06-25 17:08:35</td>\n    </tr>\n    <tr>\n      <th>2</th>\n      <td>2877991</td>\n      <td>block_browser</td>\n      <td>mhanne</td>\n      <td>Bitcoin Blockchain Browser</td>\n      <td>NaN</td>\n      <td>51</td>\n      <td>7</td>\n      <td>False</td>\n      <td>22</td>\n      <td>Ruby</td>\n      <td>Ruby, HTML, CoffeeScript, CSS, JavaScript</td>\n      <td>11</td>\n      <td>2</td>\n      <td>2016-07-21 15:07:16</td>\n      <td>2011-11-29 20:44:00</td>\n      <td>2019-09-26 01:05:39</td>\n    </tr>\n    <tr>\n      <th>3</th>\n      <td>3886965</td>\n      <td>bitcoin-wallet</td>\n      <td>bitcoin-wallet</td>\n      <td>Bitcoin Wallet app for your Android device. St...</td>\n      <td>bitcoin, bitcoinj, bitcoin-wallet, android, ja...</td>\n      <td>2475</td>\n      <td>475</td>\n      <td>False</td>\n      <td>1660</td>\n      <td>Java</td>\n      <td>Java</td>\n      <td>86</td>\n      <td>27</td>\n      <td>2021-05-30 15:13:32</td>\n      <td>2012-03-31 17:06:47</td>\n      <td>2021-06-26 07:22:42</td>\n    </tr>\n    <tr>\n      <th>4</th>\n      <td>3900173</td>\n      <td>unused-My-Wallet-iPhone</td>\n      <td>blockchain</td>\n      <td>For latest source, please see: https://github....</td>\n      <td>NaN</td>\n      <td>128</td>\n      <td>30</td>\n      <td>False</td>\n      <td>66</td>\n      <td>Assembly</td>\n      <td>Assembly, C, Objective-C, C++, HTML, Objective...</td>\n      <td>6</td>\n      <td>9</td>\n      <td>2015-09-01 21:20:50</td>\n      <td>2012-04-02 12:01:57</td>\n      <td>2021-02-15 00:40:30</td>\n    </tr>\n    <tr>\n      <th>...</th>\n      <td>...</td>\n      <td>...</td>\n      <td>...</td>\n      <td>...</td>\n      <td>...</td>\n      <td>...</td>\n      <td>...</td>\n      <td>...</td>\n      <td>...</td>\n      <td>...</td>\n      <td>...</td>\n      <td>...</td>\n      <td>...</td>\n      <td>...</td>\n      <td>...</td>\n      <td>...</td>\n    </tr>\n    <tr>\n      <th>1417</th>\n      <td>363445257</td>\n      <td>machinaris</td>\n      <td>guydavis</td>\n      <td>An easy-to-use WebUI for Chia plotting and far...</td>\n      <td>chia, plotting, webui, plotman, chia-network, ...</td>\n      <td>131</td>\n      <td>16</td>\n      <td>False</td>\n      <td>17</td>\n      <td>Python</td>\n      <td>Python, HTML, Shell, PowerShell, CSS, Mako</td>\n      <td>19</td>\n      <td>3</td>\n      <td>2021-06-27 19:58:47</td>\n      <td>2021-05-01 15:36:50</td>\n      <td>2021-06-27 19:10:49</td>\n    </tr>\n    <tr>\n      <th>1418</th>\n      <td>365701873</td>\n      <td>ic</td>\n      <td>dfinity</td>\n      <td>Internet Computer blockchain source: the clien...</td>\n      <td>NaN</td>\n      <td>653</td>\n      <td>41</td>\n      <td>False</td>\n      <td>49</td>\n      <td>Rust</td>\n      <td>Rust, WebAssembly, Shell, Dockerfile, HTML, Mo...</td>\n      <td>0</td>\n      <td>1</td>\n      <td>2021-06-24 09:00:37</td>\n      <td>2021-05-09 08:16:37</td>\n      <td>2021-06-27 18:52:09</td>\n    </tr>\n    <tr>\n      <th>1419</th>\n      <td>367841354</td>\n      <td>chaingreen-blockchain</td>\n      <td>ChainGreenOrg</td>\n      <td>NaN</td>\n      <td>NaN</td>\n      <td>50</td>\n      <td>7</td>\n      <td>False</td>\n      <td>21</td>\n      <td>Python</td>\n      <td>Python, Shell, PowerShell, Dockerfile</td>\n      <td>24</td>\n      <td>71</td>\n      <td>2021-06-24 12:15:26</td>\n      <td>2021-05-16 09:53:27</td>\n      <td>2021-06-27 18:09:29</td>\n    </tr>\n    <tr>\n      <th>1420</th>\n      <td>376155268</td>\n      <td>ultimate-defi-research-base</td>\n      <td>OffcierCia</td>\n      <td>Here we collect and discuss the best DeFI &amp; Bl...</td>\n      <td>NaN</td>\n      <td>164</td>\n      <td>11</td>\n      <td>False</td>\n      <td>19</td>\n      <td>NaN</td>\n      <td>NaN</td>\n      <td>0</td>\n      <td>7</td>\n      <td>2021-06-25 00:44:38</td>\n      <td>2021-06-11 22:27:41</td>\n      <td>2021-06-27 18:50:43</td>\n    </tr>\n    <tr>\n      <th>1421</th>\n      <td>377341156</td>\n      <td>flax-blockchain</td>\n      <td>Flax-Network</td>\n      <td>NaN</td>\n      <td>NaN</td>\n      <td>66</td>\n      <td>10</td>\n      <td>False</td>\n      <td>13</td>\n      <td>Python</td>\n      <td>Python, Shell, PowerShell</td>\n      <td>5</td>\n      <td>68</td>\n      <td>2021-06-21 08:58:06</td>\n      <td>2021-06-16 01:52:16</td>\n      <td>2021-06-27 18:11:25</td>\n    </tr>\n  </tbody>\n</table>\n<p>1422 rows × 16 columns</p>\n</div>"
     },
     "metadata": {},
     "execution_count": 2
    }
   ],
   "source": [
    "header = {\n",
    "    'id': 'ID',\n",
    "    'name': 'Name',\n",
    "    'owner': 'Owner',\n",
    "    'description': 'Description',\n",
    "    'topics': 'topics',\n",
    "    'stargazers_count': 'Stargazers',\n",
    "    'subscribers_count': 'Subscribers',\n",
    "    'fork': 'Fork?',\n",
    "    'forks_count': 'Forks',\n",
    "    'language': 'Main Language',\n",
    "    'languages': 'languages',\n",
    "    'open_issues_count': 'Open Issues',\n",
    "    'contributors_count': 'Contributors',\n",
    "    'pushed_at': 'Last Push At',\n",
    "    'created_at': 'Created At',\n",
    "    'updated_at': 'Updated At',\n",
    "}\n",
    "\n",
    "dates = ['pushed_at', 'created_at', 'updated_at']\n",
    "\n",
    "df = pd.read_csv('dataset.csv', usecols=header.keys(), parse_dates=dates, infer_datetime_format=True)\n",
    "df = df.rename(columns=header)\n",
    "df"
   ]
  },
  {
   "source": [
    "## Limpeza"
   ],
   "cell_type": "markdown",
   "metadata": {}
  },
  {
   "source": [
    "### Número de valores únicos por feature"
   ],
   "cell_type": "markdown",
   "metadata": {}
  },
  {
   "cell_type": "code",
   "execution_count": 3,
   "metadata": {},
   "outputs": [
    {
     "output_type": "execute_result",
     "data": {
      "text/plain": [
       "ID               1422\n",
       "Name             1361\n",
       "Owner             992\n",
       "Description      1384\n",
       "topics           1056\n",
       "Stargazers        536\n",
       "Subscribers       197\n",
       "Fork?               1\n",
       "Forks             357\n",
       "Main Language      45\n",
       "languages         840\n",
       "Open Issues       200\n",
       "Contributors      137\n",
       "Last Push At     1422\n",
       "Created At       1422\n",
       "Updated At       1419\n",
       "dtype: int64"
      ]
     },
     "metadata": {},
     "execution_count": 3
    }
   ],
   "source": [
    "df.nunique()"
   ]
  },
  {
   "source": [
    "### Removendo feature \"Fork?\" visto que todo registro possui o mesmo valor"
   ],
   "cell_type": "markdown",
   "metadata": {}
  },
  {
   "cell_type": "code",
   "execution_count": 4,
   "metadata": {},
   "outputs": [
    {
     "output_type": "execute_result",
     "data": {
      "text/plain": [
       "             ID                         Name            Owner  \\\n",
       "0       2304420                  Bitcoin.org  bitcoin-dot-org   \n",
       "1       2724167                      rippled           ripple   \n",
       "2       2877991                block_browser           mhanne   \n",
       "3       3886965               bitcoin-wallet   bitcoin-wallet   \n",
       "4       3900173      unused-My-Wallet-iPhone       blockchain   \n",
       "...         ...                          ...              ...   \n",
       "1417  363445257                   machinaris         guydavis   \n",
       "1418  365701873                           ic          dfinity   \n",
       "1419  367841354        chaingreen-blockchain    ChainGreenOrg   \n",
       "1420  376155268  ultimate-defi-research-base       OffcierCia   \n",
       "1421  377341156              flax-blockchain     Flax-Network   \n",
       "\n",
       "                                            Description  \\\n",
       "0                                   Bitcoin.org Website   \n",
       "1     Decentralized cryptocurrency blockchain daemon...   \n",
       "2                            Bitcoin Blockchain Browser   \n",
       "3     Bitcoin Wallet app for your Android device. St...   \n",
       "4     For latest source, please see: https://github....   \n",
       "...                                                 ...   \n",
       "1417  An easy-to-use WebUI for Chia plotting and far...   \n",
       "1418  Internet Computer blockchain source: the clien...   \n",
       "1419                                                NaN   \n",
       "1420  Here we collect and discuss the best DeFI & Bl...   \n",
       "1421                                                NaN   \n",
       "\n",
       "                                                 topics  Stargazers  \\\n",
       "0              bitcoin, blockchain, cryptocurrency, p2p        1150   \n",
       "1     xrpl, xrp-ledger, xrp, cplusplus, c-plus-plus,...        3877   \n",
       "2                                                   NaN          51   \n",
       "3     bitcoin, bitcoinj, bitcoin-wallet, android, ja...        2475   \n",
       "4                                                   NaN         128   \n",
       "...                                                 ...         ...   \n",
       "1417  chia, plotting, webui, plotman, chia-network, ...         131   \n",
       "1418                                                NaN         653   \n",
       "1419                                                NaN          50   \n",
       "1420                                                NaN         164   \n",
       "1421                                                NaN          66   \n",
       "\n",
       "      Subscribers  Forks Main Language  \\\n",
       "0             228   1931          HTML   \n",
       "1             506   1229           C++   \n",
       "2               7     22          Ruby   \n",
       "3             475   1660          Java   \n",
       "4              30     66      Assembly   \n",
       "...           ...    ...           ...   \n",
       "1417           16     17        Python   \n",
       "1418           41     49          Rust   \n",
       "1419            7     21        Python   \n",
       "1420           11     19           NaN   \n",
       "1421           10     13        Python   \n",
       "\n",
       "                                              languages  Open Issues  \\\n",
       "0     HTML, SCSS, JavaScript, Less, Ruby, Shell, Mak...           70   \n",
       "1     C++, C, CMake, Shell, JavaScript, Java, Sage, ...          294   \n",
       "2             Ruby, HTML, CoffeeScript, CSS, JavaScript           11   \n",
       "3                                                  Java           86   \n",
       "4     Assembly, C, Objective-C, C++, HTML, Objective...            6   \n",
       "...                                                 ...          ...   \n",
       "1417         Python, HTML, Shell, PowerShell, CSS, Mako           19   \n",
       "1418  Rust, WebAssembly, Shell, Dockerfile, HTML, Mo...            0   \n",
       "1419              Python, Shell, PowerShell, Dockerfile           24   \n",
       "1420                                                NaN            0   \n",
       "1421                          Python, Shell, PowerShell            5   \n",
       "\n",
       "      Contributors        Last Push At          Created At          Updated At  \n",
       "0              334 2021-06-23 11:51:52 2011-08-31 21:58:01 2021-06-24 04:36:53  \n",
       "1               89 2021-06-23 09:11:32 2011-11-07 04:40:15 2021-06-25 17:08:35  \n",
       "2                2 2016-07-21 15:07:16 2011-11-29 20:44:00 2019-09-26 01:05:39  \n",
       "3               27 2021-05-30 15:13:32 2012-03-31 17:06:47 2021-06-26 07:22:42  \n",
       "4                9 2015-09-01 21:20:50 2012-04-02 12:01:57 2021-02-15 00:40:30  \n",
       "...            ...                 ...                 ...                 ...  \n",
       "1417             3 2021-06-27 19:58:47 2021-05-01 15:36:50 2021-06-27 19:10:49  \n",
       "1418             1 2021-06-24 09:00:37 2021-05-09 08:16:37 2021-06-27 18:52:09  \n",
       "1419            71 2021-06-24 12:15:26 2021-05-16 09:53:27 2021-06-27 18:09:29  \n",
       "1420             7 2021-06-25 00:44:38 2021-06-11 22:27:41 2021-06-27 18:50:43  \n",
       "1421            68 2021-06-21 08:58:06 2021-06-16 01:52:16 2021-06-27 18:11:25  \n",
       "\n",
       "[1422 rows x 15 columns]"
      ],
      "text/html": "<div>\n<style scoped>\n    .dataframe tbody tr th:only-of-type {\n        vertical-align: middle;\n    }\n\n    .dataframe tbody tr th {\n        vertical-align: top;\n    }\n\n    .dataframe thead th {\n        text-align: right;\n    }\n</style>\n<table border=\"1\" class=\"dataframe\">\n  <thead>\n    <tr style=\"text-align: right;\">\n      <th></th>\n      <th>ID</th>\n      <th>Name</th>\n      <th>Owner</th>\n      <th>Description</th>\n      <th>topics</th>\n      <th>Stargazers</th>\n      <th>Subscribers</th>\n      <th>Forks</th>\n      <th>Main Language</th>\n      <th>languages</th>\n      <th>Open Issues</th>\n      <th>Contributors</th>\n      <th>Last Push At</th>\n      <th>Created At</th>\n      <th>Updated At</th>\n    </tr>\n  </thead>\n  <tbody>\n    <tr>\n      <th>0</th>\n      <td>2304420</td>\n      <td>Bitcoin.org</td>\n      <td>bitcoin-dot-org</td>\n      <td>Bitcoin.org Website</td>\n      <td>bitcoin, blockchain, cryptocurrency, p2p</td>\n      <td>1150</td>\n      <td>228</td>\n      <td>1931</td>\n      <td>HTML</td>\n      <td>HTML, SCSS, JavaScript, Less, Ruby, Shell, Mak...</td>\n      <td>70</td>\n      <td>334</td>\n      <td>2021-06-23 11:51:52</td>\n      <td>2011-08-31 21:58:01</td>\n      <td>2021-06-24 04:36:53</td>\n    </tr>\n    <tr>\n      <th>1</th>\n      <td>2724167</td>\n      <td>rippled</td>\n      <td>ripple</td>\n      <td>Decentralized cryptocurrency blockchain daemon...</td>\n      <td>xrpl, xrp-ledger, xrp, cplusplus, c-plus-plus,...</td>\n      <td>3877</td>\n      <td>506</td>\n      <td>1229</td>\n      <td>C++</td>\n      <td>C++, C, CMake, Shell, JavaScript, Java, Sage, ...</td>\n      <td>294</td>\n      <td>89</td>\n      <td>2021-06-23 09:11:32</td>\n      <td>2011-11-07 04:40:15</td>\n      <td>2021-06-25 17:08:35</td>\n    </tr>\n    <tr>\n      <th>2</th>\n      <td>2877991</td>\n      <td>block_browser</td>\n      <td>mhanne</td>\n      <td>Bitcoin Blockchain Browser</td>\n      <td>NaN</td>\n      <td>51</td>\n      <td>7</td>\n      <td>22</td>\n      <td>Ruby</td>\n      <td>Ruby, HTML, CoffeeScript, CSS, JavaScript</td>\n      <td>11</td>\n      <td>2</td>\n      <td>2016-07-21 15:07:16</td>\n      <td>2011-11-29 20:44:00</td>\n      <td>2019-09-26 01:05:39</td>\n    </tr>\n    <tr>\n      <th>3</th>\n      <td>3886965</td>\n      <td>bitcoin-wallet</td>\n      <td>bitcoin-wallet</td>\n      <td>Bitcoin Wallet app for your Android device. St...</td>\n      <td>bitcoin, bitcoinj, bitcoin-wallet, android, ja...</td>\n      <td>2475</td>\n      <td>475</td>\n      <td>1660</td>\n      <td>Java</td>\n      <td>Java</td>\n      <td>86</td>\n      <td>27</td>\n      <td>2021-05-30 15:13:32</td>\n      <td>2012-03-31 17:06:47</td>\n      <td>2021-06-26 07:22:42</td>\n    </tr>\n    <tr>\n      <th>4</th>\n      <td>3900173</td>\n      <td>unused-My-Wallet-iPhone</td>\n      <td>blockchain</td>\n      <td>For latest source, please see: https://github....</td>\n      <td>NaN</td>\n      <td>128</td>\n      <td>30</td>\n      <td>66</td>\n      <td>Assembly</td>\n      <td>Assembly, C, Objective-C, C++, HTML, Objective...</td>\n      <td>6</td>\n      <td>9</td>\n      <td>2015-09-01 21:20:50</td>\n      <td>2012-04-02 12:01:57</td>\n      <td>2021-02-15 00:40:30</td>\n    </tr>\n    <tr>\n      <th>...</th>\n      <td>...</td>\n      <td>...</td>\n      <td>...</td>\n      <td>...</td>\n      <td>...</td>\n      <td>...</td>\n      <td>...</td>\n      <td>...</td>\n      <td>...</td>\n      <td>...</td>\n      <td>...</td>\n      <td>...</td>\n      <td>...</td>\n      <td>...</td>\n      <td>...</td>\n    </tr>\n    <tr>\n      <th>1417</th>\n      <td>363445257</td>\n      <td>machinaris</td>\n      <td>guydavis</td>\n      <td>An easy-to-use WebUI for Chia plotting and far...</td>\n      <td>chia, plotting, webui, plotman, chia-network, ...</td>\n      <td>131</td>\n      <td>16</td>\n      <td>17</td>\n      <td>Python</td>\n      <td>Python, HTML, Shell, PowerShell, CSS, Mako</td>\n      <td>19</td>\n      <td>3</td>\n      <td>2021-06-27 19:58:47</td>\n      <td>2021-05-01 15:36:50</td>\n      <td>2021-06-27 19:10:49</td>\n    </tr>\n    <tr>\n      <th>1418</th>\n      <td>365701873</td>\n      <td>ic</td>\n      <td>dfinity</td>\n      <td>Internet Computer blockchain source: the clien...</td>\n      <td>NaN</td>\n      <td>653</td>\n      <td>41</td>\n      <td>49</td>\n      <td>Rust</td>\n      <td>Rust, WebAssembly, Shell, Dockerfile, HTML, Mo...</td>\n      <td>0</td>\n      <td>1</td>\n      <td>2021-06-24 09:00:37</td>\n      <td>2021-05-09 08:16:37</td>\n      <td>2021-06-27 18:52:09</td>\n    </tr>\n    <tr>\n      <th>1419</th>\n      <td>367841354</td>\n      <td>chaingreen-blockchain</td>\n      <td>ChainGreenOrg</td>\n      <td>NaN</td>\n      <td>NaN</td>\n      <td>50</td>\n      <td>7</td>\n      <td>21</td>\n      <td>Python</td>\n      <td>Python, Shell, PowerShell, Dockerfile</td>\n      <td>24</td>\n      <td>71</td>\n      <td>2021-06-24 12:15:26</td>\n      <td>2021-05-16 09:53:27</td>\n      <td>2021-06-27 18:09:29</td>\n    </tr>\n    <tr>\n      <th>1420</th>\n      <td>376155268</td>\n      <td>ultimate-defi-research-base</td>\n      <td>OffcierCia</td>\n      <td>Here we collect and discuss the best DeFI &amp; Bl...</td>\n      <td>NaN</td>\n      <td>164</td>\n      <td>11</td>\n      <td>19</td>\n      <td>NaN</td>\n      <td>NaN</td>\n      <td>0</td>\n      <td>7</td>\n      <td>2021-06-25 00:44:38</td>\n      <td>2021-06-11 22:27:41</td>\n      <td>2021-06-27 18:50:43</td>\n    </tr>\n    <tr>\n      <th>1421</th>\n      <td>377341156</td>\n      <td>flax-blockchain</td>\n      <td>Flax-Network</td>\n      <td>NaN</td>\n      <td>NaN</td>\n      <td>66</td>\n      <td>10</td>\n      <td>13</td>\n      <td>Python</td>\n      <td>Python, Shell, PowerShell</td>\n      <td>5</td>\n      <td>68</td>\n      <td>2021-06-21 08:58:06</td>\n      <td>2021-06-16 01:52:16</td>\n      <td>2021-06-27 18:11:25</td>\n    </tr>\n  </tbody>\n</table>\n<p>1422 rows × 15 columns</p>\n</div>"
     },
     "metadata": {},
     "execution_count": 4
    }
   ],
   "source": [
    "df = df.drop(columns='Fork?')\n",
    "df"
   ]
  },
  {
   "source": [
    "### Número de valores nulos por feature"
   ],
   "cell_type": "markdown",
   "metadata": {}
  },
  {
   "cell_type": "code",
   "execution_count": 5,
   "metadata": {},
   "outputs": [
    {
     "output_type": "execute_result",
     "data": {
      "text/plain": [
       "ID                 0\n",
       "Name               0\n",
       "Owner              0\n",
       "Description       31\n",
       "topics           348\n",
       "Stargazers         0\n",
       "Subscribers        0\n",
       "Forks              0\n",
       "Main Language    154\n",
       "languages        154\n",
       "Open Issues        0\n",
       "Contributors       0\n",
       "Last Push At       0\n",
       "Created At         0\n",
       "Updated At         0\n",
       "dtype: int64"
      ]
     },
     "metadata": {},
     "execution_count": 5
    }
   ],
   "source": [
    "df.isna().sum()"
   ]
  },
  {
   "source": [
    "### Tratando de nulos"
   ],
   "cell_type": "markdown",
   "metadata": {}
  },
  {
   "cell_type": "code",
   "execution_count": 6,
   "metadata": {},
   "outputs": [
    {
     "output_type": "execute_result",
     "data": {
      "text/plain": [
       "             ID                         Name            Owner  \\\n",
       "0       2304420                  Bitcoin.org  bitcoin-dot-org   \n",
       "1       2724167                      rippled           ripple   \n",
       "2       2877991                block_browser           mhanne   \n",
       "3       3886965               bitcoin-wallet   bitcoin-wallet   \n",
       "4       3900173      unused-My-Wallet-iPhone       blockchain   \n",
       "...         ...                          ...              ...   \n",
       "1417  363445257                   machinaris         guydavis   \n",
       "1418  365701873                           ic          dfinity   \n",
       "1419  367841354        chaingreen-blockchain    ChainGreenOrg   \n",
       "1420  376155268  ultimate-defi-research-base       OffcierCia   \n",
       "1421  377341156              flax-blockchain     Flax-Network   \n",
       "\n",
       "                                            Description  \\\n",
       "0                                   Bitcoin.org Website   \n",
       "1     Decentralized cryptocurrency blockchain daemon...   \n",
       "2                            Bitcoin Blockchain Browser   \n",
       "3     Bitcoin Wallet app for your Android device. St...   \n",
       "4     For latest source, please see: https://github....   \n",
       "...                                                 ...   \n",
       "1417  An easy-to-use WebUI for Chia plotting and far...   \n",
       "1418  Internet Computer blockchain source: the clien...   \n",
       "1419                ChainGreenOrg/chaingreen-blockchain   \n",
       "1420  Here we collect and discuss the best DeFI & Bl...   \n",
       "1421                       Flax-Network/flax-blockchain   \n",
       "\n",
       "                                                 topics  Stargazers  \\\n",
       "0              bitcoin, blockchain, cryptocurrency, p2p        1150   \n",
       "1     xrpl, xrp-ledger, xrp, cplusplus, c-plus-plus,...        3877   \n",
       "2                                                   NaN          51   \n",
       "3     bitcoin, bitcoinj, bitcoin-wallet, android, ja...        2475   \n",
       "4                                                   NaN         128   \n",
       "...                                                 ...         ...   \n",
       "1417  chia, plotting, webui, plotman, chia-network, ...         131   \n",
       "1418                                                NaN         653   \n",
       "1419                                                NaN          50   \n",
       "1420                                                NaN         164   \n",
       "1421                                                NaN          66   \n",
       "\n",
       "      Subscribers  Forks Main Language  \\\n",
       "0             228   1931          HTML   \n",
       "1             506   1229           C++   \n",
       "2               7     22          Ruby   \n",
       "3             475   1660          Java   \n",
       "4              30     66      Assembly   \n",
       "...           ...    ...           ...   \n",
       "1417           16     17        Python   \n",
       "1418           41     49          Rust   \n",
       "1419            7     21        Python   \n",
       "1420           11     19           NaN   \n",
       "1421           10     13        Python   \n",
       "\n",
       "                                              languages  Open Issues  \\\n",
       "0     HTML, SCSS, JavaScript, Less, Ruby, Shell, Mak...           70   \n",
       "1     C++, C, CMake, Shell, JavaScript, Java, Sage, ...          294   \n",
       "2             Ruby, HTML, CoffeeScript, CSS, JavaScript           11   \n",
       "3                                                  Java           86   \n",
       "4     Assembly, C, Objective-C, C++, HTML, Objective...            6   \n",
       "...                                                 ...          ...   \n",
       "1417         Python, HTML, Shell, PowerShell, CSS, Mako           19   \n",
       "1418  Rust, WebAssembly, Shell, Dockerfile, HTML, Mo...            0   \n",
       "1419              Python, Shell, PowerShell, Dockerfile           24   \n",
       "1420                                                NaN            0   \n",
       "1421                          Python, Shell, PowerShell            5   \n",
       "\n",
       "      Contributors        Last Push At          Created At          Updated At  \n",
       "0              334 2021-06-23 11:51:52 2011-08-31 21:58:01 2021-06-24 04:36:53  \n",
       "1               89 2021-06-23 09:11:32 2011-11-07 04:40:15 2021-06-25 17:08:35  \n",
       "2                2 2016-07-21 15:07:16 2011-11-29 20:44:00 2019-09-26 01:05:39  \n",
       "3               27 2021-05-30 15:13:32 2012-03-31 17:06:47 2021-06-26 07:22:42  \n",
       "4                9 2015-09-01 21:20:50 2012-04-02 12:01:57 2021-02-15 00:40:30  \n",
       "...            ...                 ...                 ...                 ...  \n",
       "1417             3 2021-06-27 19:58:47 2021-05-01 15:36:50 2021-06-27 19:10:49  \n",
       "1418             1 2021-06-24 09:00:37 2021-05-09 08:16:37 2021-06-27 18:52:09  \n",
       "1419            71 2021-06-24 12:15:26 2021-05-16 09:53:27 2021-06-27 18:09:29  \n",
       "1420             7 2021-06-25 00:44:38 2021-06-11 22:27:41 2021-06-27 18:50:43  \n",
       "1421            68 2021-06-21 08:58:06 2021-06-16 01:52:16 2021-06-27 18:11:25  \n",
       "\n",
       "[1422 rows x 15 columns]"
      ],
      "text/html": "<div>\n<style scoped>\n    .dataframe tbody tr th:only-of-type {\n        vertical-align: middle;\n    }\n\n    .dataframe tbody tr th {\n        vertical-align: top;\n    }\n\n    .dataframe thead th {\n        text-align: right;\n    }\n</style>\n<table border=\"1\" class=\"dataframe\">\n  <thead>\n    <tr style=\"text-align: right;\">\n      <th></th>\n      <th>ID</th>\n      <th>Name</th>\n      <th>Owner</th>\n      <th>Description</th>\n      <th>topics</th>\n      <th>Stargazers</th>\n      <th>Subscribers</th>\n      <th>Forks</th>\n      <th>Main Language</th>\n      <th>languages</th>\n      <th>Open Issues</th>\n      <th>Contributors</th>\n      <th>Last Push At</th>\n      <th>Created At</th>\n      <th>Updated At</th>\n    </tr>\n  </thead>\n  <tbody>\n    <tr>\n      <th>0</th>\n      <td>2304420</td>\n      <td>Bitcoin.org</td>\n      <td>bitcoin-dot-org</td>\n      <td>Bitcoin.org Website</td>\n      <td>bitcoin, blockchain, cryptocurrency, p2p</td>\n      <td>1150</td>\n      <td>228</td>\n      <td>1931</td>\n      <td>HTML</td>\n      <td>HTML, SCSS, JavaScript, Less, Ruby, Shell, Mak...</td>\n      <td>70</td>\n      <td>334</td>\n      <td>2021-06-23 11:51:52</td>\n      <td>2011-08-31 21:58:01</td>\n      <td>2021-06-24 04:36:53</td>\n    </tr>\n    <tr>\n      <th>1</th>\n      <td>2724167</td>\n      <td>rippled</td>\n      <td>ripple</td>\n      <td>Decentralized cryptocurrency blockchain daemon...</td>\n      <td>xrpl, xrp-ledger, xrp, cplusplus, c-plus-plus,...</td>\n      <td>3877</td>\n      <td>506</td>\n      <td>1229</td>\n      <td>C++</td>\n      <td>C++, C, CMake, Shell, JavaScript, Java, Sage, ...</td>\n      <td>294</td>\n      <td>89</td>\n      <td>2021-06-23 09:11:32</td>\n      <td>2011-11-07 04:40:15</td>\n      <td>2021-06-25 17:08:35</td>\n    </tr>\n    <tr>\n      <th>2</th>\n      <td>2877991</td>\n      <td>block_browser</td>\n      <td>mhanne</td>\n      <td>Bitcoin Blockchain Browser</td>\n      <td>NaN</td>\n      <td>51</td>\n      <td>7</td>\n      <td>22</td>\n      <td>Ruby</td>\n      <td>Ruby, HTML, CoffeeScript, CSS, JavaScript</td>\n      <td>11</td>\n      <td>2</td>\n      <td>2016-07-21 15:07:16</td>\n      <td>2011-11-29 20:44:00</td>\n      <td>2019-09-26 01:05:39</td>\n    </tr>\n    <tr>\n      <th>3</th>\n      <td>3886965</td>\n      <td>bitcoin-wallet</td>\n      <td>bitcoin-wallet</td>\n      <td>Bitcoin Wallet app for your Android device. St...</td>\n      <td>bitcoin, bitcoinj, bitcoin-wallet, android, ja...</td>\n      <td>2475</td>\n      <td>475</td>\n      <td>1660</td>\n      <td>Java</td>\n      <td>Java</td>\n      <td>86</td>\n      <td>27</td>\n      <td>2021-05-30 15:13:32</td>\n      <td>2012-03-31 17:06:47</td>\n      <td>2021-06-26 07:22:42</td>\n    </tr>\n    <tr>\n      <th>4</th>\n      <td>3900173</td>\n      <td>unused-My-Wallet-iPhone</td>\n      <td>blockchain</td>\n      <td>For latest source, please see: https://github....</td>\n      <td>NaN</td>\n      <td>128</td>\n      <td>30</td>\n      <td>66</td>\n      <td>Assembly</td>\n      <td>Assembly, C, Objective-C, C++, HTML, Objective...</td>\n      <td>6</td>\n      <td>9</td>\n      <td>2015-09-01 21:20:50</td>\n      <td>2012-04-02 12:01:57</td>\n      <td>2021-02-15 00:40:30</td>\n    </tr>\n    <tr>\n      <th>...</th>\n      <td>...</td>\n      <td>...</td>\n      <td>...</td>\n      <td>...</td>\n      <td>...</td>\n      <td>...</td>\n      <td>...</td>\n      <td>...</td>\n      <td>...</td>\n      <td>...</td>\n      <td>...</td>\n      <td>...</td>\n      <td>...</td>\n      <td>...</td>\n      <td>...</td>\n    </tr>\n    <tr>\n      <th>1417</th>\n      <td>363445257</td>\n      <td>machinaris</td>\n      <td>guydavis</td>\n      <td>An easy-to-use WebUI for Chia plotting and far...</td>\n      <td>chia, plotting, webui, plotman, chia-network, ...</td>\n      <td>131</td>\n      <td>16</td>\n      <td>17</td>\n      <td>Python</td>\n      <td>Python, HTML, Shell, PowerShell, CSS, Mako</td>\n      <td>19</td>\n      <td>3</td>\n      <td>2021-06-27 19:58:47</td>\n      <td>2021-05-01 15:36:50</td>\n      <td>2021-06-27 19:10:49</td>\n    </tr>\n    <tr>\n      <th>1418</th>\n      <td>365701873</td>\n      <td>ic</td>\n      <td>dfinity</td>\n      <td>Internet Computer blockchain source: the clien...</td>\n      <td>NaN</td>\n      <td>653</td>\n      <td>41</td>\n      <td>49</td>\n      <td>Rust</td>\n      <td>Rust, WebAssembly, Shell, Dockerfile, HTML, Mo...</td>\n      <td>0</td>\n      <td>1</td>\n      <td>2021-06-24 09:00:37</td>\n      <td>2021-05-09 08:16:37</td>\n      <td>2021-06-27 18:52:09</td>\n    </tr>\n    <tr>\n      <th>1419</th>\n      <td>367841354</td>\n      <td>chaingreen-blockchain</td>\n      <td>ChainGreenOrg</td>\n      <td>ChainGreenOrg/chaingreen-blockchain</td>\n      <td>NaN</td>\n      <td>50</td>\n      <td>7</td>\n      <td>21</td>\n      <td>Python</td>\n      <td>Python, Shell, PowerShell, Dockerfile</td>\n      <td>24</td>\n      <td>71</td>\n      <td>2021-06-24 12:15:26</td>\n      <td>2021-05-16 09:53:27</td>\n      <td>2021-06-27 18:09:29</td>\n    </tr>\n    <tr>\n      <th>1420</th>\n      <td>376155268</td>\n      <td>ultimate-defi-research-base</td>\n      <td>OffcierCia</td>\n      <td>Here we collect and discuss the best DeFI &amp; Bl...</td>\n      <td>NaN</td>\n      <td>164</td>\n      <td>11</td>\n      <td>19</td>\n      <td>NaN</td>\n      <td>NaN</td>\n      <td>0</td>\n      <td>7</td>\n      <td>2021-06-25 00:44:38</td>\n      <td>2021-06-11 22:27:41</td>\n      <td>2021-06-27 18:50:43</td>\n    </tr>\n    <tr>\n      <th>1421</th>\n      <td>377341156</td>\n      <td>flax-blockchain</td>\n      <td>Flax-Network</td>\n      <td>Flax-Network/flax-blockchain</td>\n      <td>NaN</td>\n      <td>66</td>\n      <td>10</td>\n      <td>13</td>\n      <td>Python</td>\n      <td>Python, Shell, PowerShell</td>\n      <td>5</td>\n      <td>68</td>\n      <td>2021-06-21 08:58:06</td>\n      <td>2021-06-16 01:52:16</td>\n      <td>2021-06-27 18:11:25</td>\n    </tr>\n  </tbody>\n</table>\n<p>1422 rows × 15 columns</p>\n</div>"
     },
     "metadata": {},
     "execution_count": 6
    }
   ],
   "source": [
    "# na feature Description, os nulos foram transformados em (usuário)/(nome do repo)\n",
    "df.Description = df.apply(lambda row: row['Owner'] + '/' + row['Name'] if pd.isnull(row['Description']) else row['Description'], axis=1)\n",
    "df"
   ]
  },
  {
   "cell_type": "code",
   "execution_count": 7,
   "metadata": {},
   "outputs": [
    {
     "output_type": "stream",
     "name": "stdout",
     "text": [
      "154\n154\n"
     ]
    },
    {
     "output_type": "execute_result",
     "data": {
      "text/plain": [
       "<pandas.io.formats.style.Styler at 0x1413e712640>"
      ],
      "text/html": "<style  type=\"text/css\" >\n#T_fc2ea_row0_col0,#T_fc2ea_row1_col0,#T_fc2ea_row2_col0,#T_fc2ea_row3_col0,#T_fc2ea_row4_col0,#T_fc2ea_row5_col0,#T_fc2ea_row6_col0,#T_fc2ea_row7_col0,#T_fc2ea_row8_col0,#T_fc2ea_row9_col0,#T_fc2ea_row10_col0,#T_fc2ea_row11_col0,#T_fc2ea_row12_col0,#T_fc2ea_row13_col0,#T_fc2ea_row14_col0,#T_fc2ea_row15_col0,#T_fc2ea_row16_col0,#T_fc2ea_row17_col0,#T_fc2ea_row18_col0,#T_fc2ea_row19_col0,#T_fc2ea_row20_col0,#T_fc2ea_row21_col0,#T_fc2ea_row22_col0,#T_fc2ea_row23_col0,#T_fc2ea_row24_col0,#T_fc2ea_row25_col0,#T_fc2ea_row26_col0,#T_fc2ea_row27_col0,#T_fc2ea_row28_col0,#T_fc2ea_row29_col0,#T_fc2ea_row30_col0,#T_fc2ea_row31_col0,#T_fc2ea_row32_col0,#T_fc2ea_row33_col0,#T_fc2ea_row34_col0,#T_fc2ea_row35_col0,#T_fc2ea_row36_col0,#T_fc2ea_row37_col0,#T_fc2ea_row38_col0,#T_fc2ea_row39_col0,#T_fc2ea_row40_col0,#T_fc2ea_row41_col0,#T_fc2ea_row42_col0,#T_fc2ea_row43_col0,#T_fc2ea_row44_col0,#T_fc2ea_row45_col0,#T_fc2ea_row46_col0,#T_fc2ea_row47_col0,#T_fc2ea_row48_col0,#T_fc2ea_row49_col0,#T_fc2ea_row50_col0,#T_fc2ea_row51_col0,#T_fc2ea_row52_col0,#T_fc2ea_row53_col0,#T_fc2ea_row54_col0,#T_fc2ea_row55_col0,#T_fc2ea_row56_col0,#T_fc2ea_row57_col0,#T_fc2ea_row58_col0,#T_fc2ea_row59_col0,#T_fc2ea_row60_col0,#T_fc2ea_row61_col0,#T_fc2ea_row62_col0,#T_fc2ea_row63_col0,#T_fc2ea_row64_col0,#T_fc2ea_row65_col0,#T_fc2ea_row66_col0,#T_fc2ea_row67_col0,#T_fc2ea_row68_col0,#T_fc2ea_row69_col0,#T_fc2ea_row70_col0,#T_fc2ea_row71_col0,#T_fc2ea_row72_col0,#T_fc2ea_row73_col0,#T_fc2ea_row74_col0,#T_fc2ea_row75_col0,#T_fc2ea_row76_col0,#T_fc2ea_row77_col0,#T_fc2ea_row78_col0,#T_fc2ea_row79_col0,#T_fc2ea_row80_col0,#T_fc2ea_row81_col0,#T_fc2ea_row82_col0,#T_fc2ea_row83_col0,#T_fc2ea_row84_col0,#T_fc2ea_row85_col0,#T_fc2ea_row86_col0,#T_fc2ea_row87_col0,#T_fc2ea_row88_col0,#T_fc2ea_row89_col0,#T_fc2ea_row90_col0,#T_fc2ea_row91_col0,#T_fc2ea_row92_col0,#T_fc2ea_row93_col0,#T_fc2ea_row94_col0,#T_fc2ea_row95_col0,#T_fc2ea_row96_col0,#T_fc2ea_row97_col0,#T_fc2ea_row98_col0,#T_fc2ea_row99_col0,#T_fc2ea_row100_col0,#T_fc2ea_row101_col0,#T_fc2ea_row102_col0,#T_fc2ea_row103_col0,#T_fc2ea_row104_col0,#T_fc2ea_row105_col0,#T_fc2ea_row106_col0,#T_fc2ea_row107_col0,#T_fc2ea_row108_col0,#T_fc2ea_row109_col0,#T_fc2ea_row110_col0,#T_fc2ea_row111_col0,#T_fc2ea_row112_col0,#T_fc2ea_row113_col0,#T_fc2ea_row114_col0,#T_fc2ea_row115_col0,#T_fc2ea_row116_col0,#T_fc2ea_row117_col0,#T_fc2ea_row118_col0,#T_fc2ea_row119_col0,#T_fc2ea_row120_col0,#T_fc2ea_row121_col0,#T_fc2ea_row122_col0,#T_fc2ea_row123_col0,#T_fc2ea_row124_col0,#T_fc2ea_row125_col0,#T_fc2ea_row126_col0,#T_fc2ea_row127_col0,#T_fc2ea_row128_col0,#T_fc2ea_row129_col0,#T_fc2ea_row130_col0,#T_fc2ea_row131_col0,#T_fc2ea_row132_col0,#T_fc2ea_row133_col0,#T_fc2ea_row134_col0,#T_fc2ea_row135_col0,#T_fc2ea_row136_col0,#T_fc2ea_row137_col0,#T_fc2ea_row138_col0,#T_fc2ea_row139_col0,#T_fc2ea_row140_col0,#T_fc2ea_row141_col0,#T_fc2ea_row142_col0,#T_fc2ea_row143_col0,#T_fc2ea_row144_col0,#T_fc2ea_row145_col0,#T_fc2ea_row146_col0,#T_fc2ea_row147_col0,#T_fc2ea_row148_col0,#T_fc2ea_row149_col0,#T_fc2ea_row150_col0,#T_fc2ea_row151_col0,#T_fc2ea_row152_col0,#T_fc2ea_row153_col0{\n            width:  900px;\n            text-align:  left;\n        }</style><table id=\"T_fc2ea_\" ><thead>    <tr>        <th class=\"blank level0\" ></th>        <th class=\"col_heading level0 col0\" >Description</th>    </tr></thead><tbody>\n                <tr>\n                        <th id=\"T_fc2ea_level0_row0\" class=\"row_heading level0 row0\" >36</th>\n                        <td id=\"T_fc2ea_row0_col0\" class=\"data row0 col0\" >Blockchain Known Pools Tracking Info</td>\n            </tr>\n            <tr>\n                        <th id=\"T_fc2ea_level0_row1\" class=\"row_heading level0 row1\" >56</th>\n                        <td id=\"T_fc2ea_row1_col0\" class=\"data row1 col0\" >A book on imagining the future of society empowered through blockchain technology.</td>\n            </tr>\n            <tr>\n                        <th id=\"T_fc2ea_level0_row2\" class=\"row_heading level0 row2\" >59</th>\n                        <td id=\"T_fc2ea_row2_col0\" class=\"data row2 col0\" >Network for portable financial-grade identity on blockchain</td>\n            </tr>\n            <tr>\n                        <th id=\"T_fc2ea_level0_row3\" class=\"row_heading level0 row3\" >61</th>\n                        <td id=\"T_fc2ea_row3_col0\" class=\"data row3 col0\" >Decentralized alternative to Facebook Login and OpenID</td>\n            </tr>\n            <tr>\n                        <th id=\"T_fc2ea_level0_row4\" class=\"row_heading level0 row4\" >73</th>\n                        <td id=\"T_fc2ea_row4_col0\" class=\"data row4 col0\" >Links to online resources about cryptocurrency and decentralized application development</td>\n            </tr>\n            <tr>\n                        <th id=\"T_fc2ea_level0_row5\" class=\"row_heading level0 row5\" >83</th>\n                        <td id=\"T_fc2ea_row5_col0\" class=\"data row5 col0\" >Curated list of the bitcoin blockchain services</td>\n            </tr>\n            <tr>\n                        <th id=\"T_fc2ea_level0_row6\" class=\"row_heading level0 row6\" >86</th>\n                        <td id=\"T_fc2ea_row6_col0\" class=\"data row6 col0\" >PGP-like encryption + torrent-like addressing + blockchain-like enforcement of data expiry</td>\n            </tr>\n            <tr>\n                        <th id=\"T_fc2ea_level0_row7\" class=\"row_heading level0 row7\" >91</th>\n                        <td id=\"T_fc2ea_row7_col0\" class=\"data row7 col0\" >List of opininated links to resources useful to blockchain and bitcoin developers</td>\n            </tr>\n            <tr>\n                        <th id=\"T_fc2ea_level0_row8\" class=\"row_heading level0 row8\" >110</th>\n                        <td id=\"T_fc2ea_row8_col0\" class=\"data row8 col0\" >See the full documentation on blockchain identity at blockstack.org</td>\n            </tr>\n            <tr>\n                        <th id=\"T_fc2ea_level0_row9\" class=\"row_heading level0 row9\" >112</th>\n                        <td id=\"T_fc2ea_row9_col0\" class=\"data row9 col0\" >[DEPRECATED] A simple blockchain server (downloads block and serves them, doesn't do state transitions)</td>\n            </tr>\n            <tr>\n                        <th id=\"T_fc2ea_level0_row10\" class=\"row_heading level0 row10\" >115</th>\n                        <td id=\"T_fc2ea_row10_col0\" class=\"data row10 col0\" >Reading list of research papers on blockchains, P2P networks, consensus etc</td>\n            </tr>\n            <tr>\n                        <th id=\"T_fc2ea_level0_row11\" class=\"row_heading level0 row11\" >124</th>\n                        <td id=\"T_fc2ea_row11_col0\" class=\"data row11 col0\" >Hyperledger Project is a new Collaborative Project at The Linux Foundation. The technical community is just getting started and will be adding code to the repository in the coming weeks. Check hyperledger.org for more information about joining the mailing lists and participating in the conversations.</td>\n            </tr>\n            <tr>\n                        <th id=\"T_fc2ea_level0_row12\" class=\"row_heading level0 row12\" >128</th>\n                        <td id=\"T_fc2ea_row12_col0\" class=\"data row12 col0\" >Article back-end for hack.guides() website</td>\n            </tr>\n            <tr>\n                        <th id=\"T_fc2ea_level0_row13\" class=\"row_heading level0 row13\" >136</th>\n                        <td id=\"T_fc2ea_row13_col0\" class=\"data row13 col0\" >Official Go implementation of the hyperchain protocol </td>\n            </tr>\n            <tr>\n                        <th id=\"T_fc2ea_level0_row14\" class=\"row_heading level0 row14\" >137</th>\n                        <td id=\"T_fc2ea_row14_col0\" class=\"data row14 col0\" >BitShares Improvement Proposals and Protocols. These technical documents describe the process of updating and improving the BitShares blockchain and technical ecosystem.</td>\n            </tr>\n            <tr>\n                        <th id=\"T_fc2ea_level0_row15\" class=\"row_heading level0 row15\" >166</th>\n                        <td id=\"T_fc2ea_row15_col0\" class=\"data row15 col0\" >:zap: Awesome Ethereum Resources</td>\n            </tr>\n            <tr>\n                        <th id=\"T_fc2ea_level0_row16\" class=\"row_heading level0 row16\" >168</th>\n                        <td id=\"T_fc2ea_row16_col0\" class=\"data row16 col0\" >Blockchain and Identity</td>\n            </tr>\n            <tr>\n                        <th id=\"T_fc2ea_level0_row17\" class=\"row_heading level0 row17\" >171</th>\n                        <td id=\"T_fc2ea_row17_col0\" class=\"data row17 col0\" >区块链资源列表(A curated list of blockchain resources.)</td>\n            </tr>\n            <tr>\n                        <th id=\"T_fc2ea_level0_row18\" class=\"row_heading level0 row18\" >191</th>\n                        <td id=\"T_fc2ea_row18_col0\" class=\"data row18 col0\" >ProgrammingBlockchain/ProgrammingBlockchain</td>\n            </tr>\n            <tr>\n                        <th id=\"T_fc2ea_level0_row19\" class=\"row_heading level0 row19\" >192</th>\n                        <td id=\"T_fc2ea_row19_col0\" class=\"data row19 col0\" >Documentation for Remix IDE</td>\n            </tr>\n            <tr>\n                        <th id=\"T_fc2ea_level0_row20\" class=\"row_heading level0 row20\" >196</th>\n                        <td id=\"T_fc2ea_row20_col0\" class=\"data row20 col0\" >Tidy up Blockchain ecosystem and tutorial</td>\n            </tr>\n            <tr>\n                        <th id=\"T_fc2ea_level0_row21\" class=\"row_heading level0 row21\" >205</th>\n                        <td id=\"T_fc2ea_row21_col0\" class=\"data row21 col0\" >All publicly known blockchain incidents</td>\n            </tr>\n            <tr>\n                        <th id=\"T_fc2ea_level0_row22\" class=\"row_heading level0 row22\" >218</th>\n                        <td id=\"T_fc2ea_row22_col0\" class=\"data row22 col0\" >Ledger Nano S, a personal security device from Ledger (blockchain / bitcoin / ethereum / FIDO)</td>\n            </tr>\n            <tr>\n                        <th id=\"T_fc2ea_level0_row23\" class=\"row_heading level0 row23\" >228</th>\n                        <td id=\"T_fc2ea_row23_col0\" class=\"data row23 col0\" >Mirror of the release branches for Tezos, a self-amending cryptographic ledger</td>\n            </tr>\n            <tr>\n                        <th id=\"T_fc2ea_level0_row24\" class=\"row_heading level0 row24\" >252</th>\n                        <td id=\"T_fc2ea_row24_col0\" class=\"data row24 col0\" >COALA IP is a blockchain-ready, community-driven protocol for intellectual property licensing.</td>\n            </tr>\n            <tr>\n                        <th id=\"T_fc2ea_level0_row25\" class=\"row_heading level0 row25\" >255</th>\n                        <td id=\"T_fc2ea_row25_col0\" class=\"data row25 col0\" >Blockchain and Crytocurrency Resources</td>\n            </tr>\n            <tr>\n                        <th id=\"T_fc2ea_level0_row26\" class=\"row_heading level0 row26\" >258</th>\n                        <td id=\"T_fc2ea_row26_col0\" class=\"data row26 col0\" >Programming examples from the book.</td>\n            </tr>\n            <tr>\n                        <th id=\"T_fc2ea_level0_row27\" class=\"row_heading level0 row27\" >278</th>\n                        <td id=\"T_fc2ea_row27_col0\" class=\"data row27 col0\" >👩‍🏫 👨‍🏫 The open-source curriculum of Enki!</td>\n            </tr>\n            <tr>\n                        <th id=\"T_fc2ea_level0_row28\" class=\"row_heading level0 row28\" >295</th>\n                        <td id=\"T_fc2ea_row28_col0\" class=\"data row28 col0\" >Curated list of blockchain services and exchanges 🔥🏦🔥🏦🔥🏦🔥</td>\n            </tr>\n            <tr>\n                        <th id=\"T_fc2ea_level0_row29\" class=\"row_heading level0 row29\" >301</th>\n                        <td id=\"T_fc2ea_row29_col0\" class=\"data row29 col0\" >blockchain resources list</td>\n            </tr>\n            <tr>\n                        <th id=\"T_fc2ea_level0_row30\" class=\"row_heading level0 row30\" >320</th>\n                        <td id=\"T_fc2ea_row30_col0\" class=\"data row30 col0\" >A curated list of how to get started with Ethereum blockchain technologies</td>\n            </tr>\n            <tr>\n                        <th id=\"T_fc2ea_level0_row31\" class=\"row_heading level0 row31\" >325</th>\n                        <td id=\"T_fc2ea_row31_col0\" class=\"data row31 col0\" >区块链参考资料</td>\n            </tr>\n            <tr>\n                        <th id=\"T_fc2ea_level0_row32\" class=\"row_heading level0 row32\" >334</th>\n                        <td id=\"T_fc2ea_row32_col0\" class=\"data row32 col0\" >Curated list of projects that build non-financial applications of blockchain</td>\n            </tr>\n            <tr>\n                        <th id=\"T_fc2ea_level0_row33\" class=\"row_heading level0 row33\" >350</th>\n                        <td id=\"T_fc2ea_row33_col0\" class=\"data row33 col0\" >A curated list of academic blockchain-related papers</td>\n            </tr>\n            <tr>\n                        <th id=\"T_fc2ea_level0_row34\" class=\"row_heading level0 row34\" >351</th>\n                        <td id=\"T_fc2ea_row34_col0\" class=\"data row34 col0\" >The Comprehensive Ethereum Reading List</td>\n            </tr>\n            <tr>\n                        <th id=\"T_fc2ea_level0_row35\" class=\"row_heading level0 row35\" >367</th>\n                        <td id=\"T_fc2ea_row35_col0\" class=\"data row35 col0\" >Post your blockchain or Ethereum jobs here</td>\n            </tr>\n            <tr>\n                        <th id=\"T_fc2ea_level0_row36\" class=\"row_heading level0 row36\" >379</th>\n                        <td id=\"T_fc2ea_row36_col0\" class=\"data row36 col0\" >Curated list of awesome supply chain blogs, podcasts, standards, projects, and examples.</td>\n            </tr>\n            <tr>\n                        <th id=\"T_fc2ea_level0_row37\" class=\"row_heading level0 row37\" >380</th>\n                        <td id=\"T_fc2ea_row37_col0\" class=\"data row37 col0\" >A curated list of awesome decentralized applications / resources</td>\n            </tr>\n            <tr>\n                        <th id=\"T_fc2ea_level0_row38\" class=\"row_heading level0 row38\" >383</th>\n                        <td id=\"T_fc2ea_row38_col0\" class=\"data row38 col0\" >Blockchain related ICO Investing Principles by INBlockchain</td>\n            </tr>\n            <tr>\n                        <th id=\"T_fc2ea_level0_row39\" class=\"row_heading level0 row39\" >411</th>\n                        <td id=\"T_fc2ea_row39_col0\" class=\"data row39 col0\" >Resources for working with the NEO blockchain</td>\n            </tr>\n            <tr>\n                        <th id=\"T_fc2ea_level0_row40\" class=\"row_heading level0 row40\" >425</th>\n                        <td id=\"T_fc2ea_row40_col0\" class=\"data row40 col0\" >On self sovereign human identity.</td>\n            </tr>\n            <tr>\n                        <th id=\"T_fc2ea_level0_row41\" class=\"row_heading level0 row41\" >426</th>\n                        <td id=\"T_fc2ea_row41_col0\" class=\"data row41 col0\" >A community driven list of useful IOTA blogs, articles, videos and tools.</td>\n            </tr>\n            <tr>\n                        <th id=\"T_fc2ea_level0_row42\" class=\"row_heading level0 row42\" >459</th>\n                        <td id=\"T_fc2ea_row42_col0\" class=\"data row42 col0\" >The Confidential Consortium Blockchain Framework is an open-source system that enables high-scale, confidential blockchain networks that meet all key enterprise requirements—providing a means to accelerate production enterprise adoption of blockchain technology.</td>\n            </tr>\n            <tr>\n                        <th id=\"T_fc2ea_level0_row43\" class=\"row_heading level0 row43\" >472</th>\n                        <td id=\"T_fc2ea_row43_col0\" class=\"data row43 col0\" >区块链 - 中文资源</td>\n            </tr>\n            <tr>\n                        <th id=\"T_fc2ea_level0_row44\" class=\"row_heading level0 row44\" >495</th>\n                        <td id=\"T_fc2ea_row44_col0\" class=\"data row44 col0\" >Curated collection of blockchain & cryptocurrency resources.</td>\n            </tr>\n            <tr>\n                        <th id=\"T_fc2ea_level0_row45\" class=\"row_heading level0 row45\" >505</th>\n                        <td id=\"T_fc2ea_row45_col0\" class=\"data row45 col0\" >This repository is out of date, please check the new wiki: </td>\n            </tr>\n            <tr>\n                        <th id=\"T_fc2ea_level0_row46\" class=\"row_heading level0 row46\" >512</th>\n                        <td id=\"T_fc2ea_row46_col0\" class=\"data row46 col0\" >Blockchains and Distributed Ledgers</td>\n            </tr>\n            <tr>\n                        <th id=\"T_fc2ea_level0_row47\" class=\"row_heading level0 row47\" >515</th>\n                        <td id=\"T_fc2ea_row47_col0\" class=\"data row47 col0\" >A curated list of awesome Blockchain, Bitcoin and Ethereum related resources</td>\n            </tr>\n            <tr>\n                        <th id=\"T_fc2ea_level0_row48\" class=\"row_heading level0 row48\" >516</th>\n                        <td id=\"T_fc2ea_row48_col0\" class=\"data row48 col0\" >A suggested learning path for blockchain development</td>\n            </tr>\n            <tr>\n                        <th id=\"T_fc2ea_level0_row49\" class=\"row_heading level0 row49\" >518</th>\n                        <td id=\"T_fc2ea_row49_col0\" class=\"data row49 col0\" >Awesome CryptoPunks Bubble (Anno 2021) - Modern 24x24 Pixel Crypto Art on the Blockchain since 2017 - 10 000 Unique Collectible Characters Generated Algorithmically ++ Bonus: Inside the CryptoPunksMarket Contract Service</td>\n            </tr>\n            <tr>\n                        <th id=\"T_fc2ea_level0_row50\" class=\"row_heading level0 row50\" >523</th>\n                        <td id=\"T_fc2ea_row50_col0\" class=\"data row50 col0\" >A curated list of awesome EOS frameworks, libraries, software and resources.</td>\n            </tr>\n            <tr>\n                        <th id=\"T_fc2ea_level0_row51\" class=\"row_heading level0 row51\" >537</th>\n                        <td id=\"T_fc2ea_row51_col0\" class=\"data row51 col0\" >Cryptocurrency study materials resources</td>\n            </tr>\n            <tr>\n                        <th id=\"T_fc2ea_level0_row52\" class=\"row_heading level0 row52\" >555</th>\n                        <td id=\"T_fc2ea_row52_col0\" class=\"data row52 col0\" >An awesome curated list of Cryptoeconomic research and learning materials</td>\n            </tr>\n            <tr>\n                        <th id=\"T_fc2ea_level0_row53\" class=\"row_heading level0 row53\" >565</th>\n                        <td id=\"T_fc2ea_row53_col0\" class=\"data row53 col0\" >⛓ An easiest way to enjoy Ethereum developments.</td>\n            </tr>\n            <tr>\n                        <th id=\"T_fc2ea_level0_row54\" class=\"row_heading level0 row54\" >568</th>\n                        <td id=\"T_fc2ea_row54_col0\" class=\"data row54 col0\" >Open-source landscape map for healthcare-related blockchains</td>\n            </tr>\n            <tr>\n                        <th id=\"T_fc2ea_level0_row55\" class=\"row_heading level0 row55\" >573</th>\n                        <td id=\"T_fc2ea_row55_col0\" class=\"data row55 col0\" >Hashgraph is a superior consensus mechanism / data structure alternative to blockchain.</td>\n            </tr>\n            <tr>\n                        <th id=\"T_fc2ea_level0_row56\" class=\"row_heading level0 row56\" >589</th>\n                        <td id=\"T_fc2ea_row56_col0\" class=\"data row56 col0\" >This repository provides tutorials and code examples related to Blockchain development.</td>\n            </tr>\n            <tr>\n                        <th id=\"T_fc2ea_level0_row57\" class=\"row_heading level0 row57\" >596</th>\n                        <td id=\"T_fc2ea_row57_col0\" class=\"data row57 col0\" >Cheat sheet and best practices for solidity. Write smart contracts for Ethereum.</td>\n            </tr>\n            <tr>\n                        <th id=\"T_fc2ea_level0_row58\" class=\"row_heading level0 row58\" >602</th>\n                        <td id=\"T_fc2ea_row58_col0\" class=\"data row58 col0\" >Collection of papers in the field of distributed systems, game theory, cryptography, cryptoeconomics, zero knowledge</td>\n            </tr>\n            <tr>\n                        <th id=\"T_fc2ea_level0_row59\" class=\"row_heading level0 row59\" >614</th>\n                        <td id=\"T_fc2ea_row59_col0\" class=\"data row59 col0\" >Curated list of blockchain, Awesome Awesomeness</td>\n            </tr>\n            <tr>\n                        <th id=\"T_fc2ea_level0_row60\" class=\"row_heading level0 row60\" >617</th>\n                        <td id=\"T_fc2ea_row60_col0\" class=\"data row60 col0\" >「区块链技术指北」相关资料。</td>\n            </tr>\n            <tr>\n                        <th id=\"T_fc2ea_level0_row61\" class=\"row_heading level0 row61\" >624</th>\n                        <td id=\"T_fc2ea_row61_col0\" class=\"data row61 col0\" >Collection of useful links for getting started with blockchain technology</td>\n            </tr>\n            <tr>\n                        <th id=\"T_fc2ea_level0_row62\" class=\"row_heading level0 row62\" >625</th>\n                        <td id=\"T_fc2ea_row62_col0\" class=\"data row62 col0\" >Specification of the aeternity blockchain protocol</td>\n            </tr>\n            <tr>\n                        <th id=\"T_fc2ea_level0_row63\" class=\"row_heading level0 row63\" >628</th>\n                        <td id=\"T_fc2ea_row63_col0\" class=\"data row63 col0\" >Financial Blockchain Open Source Platform FISCO BCOS Whitepaper</td>\n            </tr>\n            <tr>\n                        <th id=\"T_fc2ea_level0_row64\" class=\"row_heading level0 row64\" >630</th>\n                        <td id=\"T_fc2ea_row64_col0\" class=\"data row64 col0\" >Blockchain Guild Community</td>\n            </tr>\n            <tr>\n                        <th id=\"T_fc2ea_level0_row65\" class=\"row_heading level0 row65\" >635</th>\n                        <td id=\"T_fc2ea_row65_col0\" class=\"data row65 col0\" >180天搞懂区块链。 区块链的浪潮已来， 当一个弄潮儿，随时准备冲上浪潮之巅。（由于时间精力的原因， 项目暂时搁置，不再更新。 抱歉， 有一腔热情，但是吹下的牛逼没有按时完成。不过对区块链依然保持关注， 欢迎大家关注公众号allinblockchain） </td>\n            </tr>\n            <tr>\n                        <th id=\"T_fc2ea_level0_row66\" class=\"row_heading level0 row66\" >640</th>\n                        <td id=\"T_fc2ea_row66_col0\" class=\"data row66 col0\" >A curated list of projects using the NEM blockchain</td>\n            </tr>\n            <tr>\n                        <th id=\"T_fc2ea_level0_row67\" class=\"row_heading level0 row67\" >646</th>\n                        <td id=\"T_fc2ea_row67_col0\" class=\"data row67 col0\" >Programming Cryptocurrencies and Blockchains by Gerald Bauer et al</td>\n            </tr>\n            <tr>\n                        <th id=\"T_fc2ea_level0_row68\" class=\"row_heading level0 row68\" >658</th>\n                        <td id=\"T_fc2ea_row68_col0\" class=\"data row68 col0\" >区块链的功能性智能合约SCRM系统</td>\n            </tr>\n            <tr>\n                        <th id=\"T_fc2ea_level0_row69\" class=\"row_heading level0 row69\" >661</th>\n                        <td id=\"T_fc2ea_row69_col0\" class=\"data row69 col0\" >A reading list on blockchain and related technologies, targeted at technical people who want a deep understanding of those topics.</td>\n            </tr>\n            <tr>\n                        <th id=\"T_fc2ea_level0_row70\" class=\"row_heading level0 row70\" >662</th>\n                        <td id=\"T_fc2ea_row70_col0\" class=\"data row70 col0\" >A curated list of Blockchain projects for Artificial Intelligence and Machine Learning</td>\n            </tr>\n            <tr>\n                        <th id=\"T_fc2ea_level0_row71\" class=\"row_heading level0 row71\" >664</th>\n                        <td id=\"T_fc2ea_row71_col0\" class=\"data row71 col0\" >♨️ 分享GitHub优秀开源项目和主流开发使用的网站、解决问题方案收集以及学习网站或资料，涵盖了iOS, macOS X, Blockchain, Flutter, Weex, H5, Games, C++, Script等多方面的内容，其中iOS大致包涵以下内容：音视频；IM和直播；逆向开发；图像相关(OpenGL, Metal, GPUImage)；内购(IAP), ApplePay和第三方支付；安全攻防和应用加固, 数据安全和算法；常用第三方库；导航栏和状态栏；侧边菜单；数据持久；蓝牙, 手势指纹面容ID解锁, 图片浏览器, 扫码, 下拉和上拉刷新, 指示器, Toast, Menu, Sensor, Privacy, WebView和进度条, 动画, 选择器, 搜索, 分享, 图片验证码, 设备相关信息, 广告, 高仿项目及Demo等。</td>\n            </tr>\n            <tr>\n                        <th id=\"T_fc2ea_level0_row72\" class=\"row_heading level0 row72\" >665</th>\n                        <td id=\"T_fc2ea_row72_col0\" class=\"data row72 col0\" >Documentation for the Hydro Blockchain</td>\n            </tr>\n            <tr>\n                        <th id=\"T_fc2ea_level0_row73\" class=\"row_heading level0 row73\" >668</th>\n                        <td id=\"T_fc2ea_row73_col0\" class=\"data row73 col0\" >区块链工程师面试宝典</td>\n            </tr>\n            <tr>\n                        <th id=\"T_fc2ea_level0_row74\" class=\"row_heading level0 row74\" >673</th>\n                        <td id=\"T_fc2ea_row74_col0\" class=\"data row74 col0\" >区块链白皮书、书籍、交易所、币种、自媒体等资源汇总 💯</td>\n            </tr>\n            <tr>\n                        <th id=\"T_fc2ea_level0_row75\" class=\"row_heading level0 row75\" >697</th>\n                        <td id=\"T_fc2ea_row75_col0\" class=\"data row75 col0\" >Blockchain Books</td>\n            </tr>\n            <tr>\n                        <th id=\"T_fc2ea_level0_row76\" class=\"row_heading level0 row76\" >699</th>\n                        <td id=\"T_fc2ea_row76_col0\" class=\"data row76 col0\" >[CURSO] Desenvolvimento Blockchain com Ethereum</td>\n            </tr>\n            <tr>\n                        <th id=\"T_fc2ea_level0_row77\" class=\"row_heading level0 row77\" >725</th>\n                        <td id=\"T_fc2ea_row77_col0\" class=\"data row77 col0\" >Ethereum and Quorum private blockchain explorer</td>\n            </tr>\n            <tr>\n                        <th id=\"T_fc2ea_level0_row78\" class=\"row_heading level0 row78\" >740</th>\n                        <td id=\"T_fc2ea_row78_col0\" class=\"data row78 col0\" >A list of protocols for decentralized exchange</td>\n            </tr>\n            <tr>\n                        <th id=\"T_fc2ea_level0_row79\" class=\"row_heading level0 row79\" >754</th>\n                        <td id=\"T_fc2ea_row79_col0\" class=\"data row79 col0\" >My journey with Stellar (XLM) 🚀</td>\n            </tr>\n            <tr>\n                        <th id=\"T_fc2ea_level0_row80\" class=\"row_heading level0 row80\" >757</th>\n                        <td id=\"T_fc2ea_row80_col0\" class=\"data row80 col0\" >有编程基础学习区块链 写给产品和开发的一本区块链书</td>\n            </tr>\n            <tr>\n                        <th id=\"T_fc2ea_level0_row81\" class=\"row_heading level0 row81\" >759</th>\n                        <td id=\"T_fc2ea_row81_col0\" class=\"data row81 col0\" >[NO LONGER UPDATED] A detailed and extensive blocklist advisory for ActivityPub instances (ie. Mastodon, Pleroma, GNUSocial, etc.).</td>\n            </tr>\n            <tr>\n                        <th id=\"T_fc2ea_level0_row82\" class=\"row_heading level0 row82\" >768</th>\n                        <td id=\"T_fc2ea_row82_col0\" class=\"data row82 col0\" >Resources of blockchain</td>\n            </tr>\n            <tr>\n                        <th id=\"T_fc2ea_level0_row83\" class=\"row_heading level0 row83\" >773</th>\n                        <td id=\"T_fc2ea_row83_col0\" class=\"data row83 col0\" >Resources for DAG Blockchain</td>\n            </tr>\n            <tr>\n                        <th id=\"T_fc2ea_level0_row84\" class=\"row_heading level0 row84\" >774</th>\n                        <td id=\"T_fc2ea_row84_col0\" class=\"data row84 col0\" >A curated list of resources for blockchain engineers</td>\n            </tr>\n            <tr>\n                        <th id=\"T_fc2ea_level0_row85\" class=\"row_heading level0 row85\" >777</th>\n                        <td id=\"T_fc2ea_row85_col0\" class=\"data row85 col0\" >A hacker's guide to using the Stellar blockchain platform.</td>\n            </tr>\n            <tr>\n                        <th id=\"T_fc2ea_level0_row86\" class=\"row_heading level0 row86\" >778</th>\n                        <td id=\"T_fc2ea_row86_col0\" class=\"data row86 col0\" >来自硅谷的终身学习大学</td>\n            </tr>\n            <tr>\n                        <th id=\"T_fc2ea_level0_row87\" class=\"row_heading level0 row87\" >789</th>\n                        <td id=\"T_fc2ea_row87_col0\" class=\"data row87 col0\" >A collection of awesome blockchain articles. Good learning resources about blockchain. </td>\n            </tr>\n            <tr>\n                        <th id=\"T_fc2ea_level0_row88\" class=\"row_heading level0 row88\" >794</th>\n                        <td id=\"T_fc2ea_row88_col0\" class=\"data row88 col0\" >😎 Curated list about cryptocurrency security (reverse / exploit / fuzz..)</td>\n            </tr>\n            <tr>\n                        <th id=\"T_fc2ea_level0_row89\" class=\"row_heading level0 row89\" >798</th>\n                        <td id=\"T_fc2ea_row89_col0\" class=\"data row89 col0\" >This is the code for \"Learn Blockchain in 2 Months\" by Siraj Raval on Youtube </td>\n            </tr>\n            <tr>\n                        <th id=\"T_fc2ea_level0_row90\" class=\"row_heading level0 row90\" >802</th>\n                        <td id=\"T_fc2ea_row90_col0\" class=\"data row90 col0\" >[编写中]《Web 平台区块链开发》：深入浅出讲解区块链的发展演变，使用 Node.js 开发能运行在 Web 平台上的区块链系统。  在线阅读：https://azard.gitbooks.io/web-blockchain-development/content/</td>\n            </tr>\n            <tr>\n                        <th id=\"T_fc2ea_level0_row91\" class=\"row_heading level0 row91\" >805</th>\n                        <td id=\"T_fc2ea_row91_col0\" class=\"data row91 col0\" >A curated list of Hyperledger Resources, Articles, Talks and Applications, all in one place.</td>\n            </tr>\n            <tr>\n                        <th id=\"T_fc2ea_level0_row92\" class=\"row_heading level0 row92\" >808</th>\n                        <td id=\"T_fc2ea_row92_col0\" class=\"data row92 col0\" >BLOCKCHAIN EXCHANGE</td>\n            </tr>\n            <tr>\n                        <th id=\"T_fc2ea_level0_row93\" class=\"row_heading level0 row93\" >810</th>\n                        <td id=\"T_fc2ea_row93_col0\" class=\"data row93 col0\" >区块链3.0 -> 超级账本hyperledger fabirc教程 v1.1</td>\n            </tr>\n            <tr>\n                        <th id=\"T_fc2ea_level0_row94\" class=\"row_heading level0 row94\" >831</th>\n                        <td id=\"T_fc2ea_row94_col0\" class=\"data row94 col0\" >Roadmap of learning blockchain technology and business knowledge summarized by ZJUBCA（浙大区块链协会总结的区块链知识学习路线）. Welcome to contribute!!!</td>\n            </tr>\n            <tr>\n                        <th id=\"T_fc2ea_level0_row95\" class=\"row_heading level0 row95\" >847</th>\n                        <td id=\"T_fc2ea_row95_col0\" class=\"data row95 col0\" >My Tech Blog: about Golang / Python / Flutter / Blockchain etc.</td>\n            </tr>\n            <tr>\n                        <th id=\"T_fc2ea_level0_row96\" class=\"row_heading level0 row96\" >853</th>\n                        <td id=\"T_fc2ea_row96_col0\" class=\"data row96 col0\" >区块链自媒体、专注区块链技术学习和实践、IPFS/Filecoin、Bitcoin、Ethereum、EOS、Cosmos、区块链、白皮书、Coinmarketcap、Coindesk、Safe Network、Telegram、Docker、社会治理、经济激励</td>\n            </tr>\n            <tr>\n                        <th id=\"T_fc2ea_level0_row97\" class=\"row_heading level0 row97\" >889</th>\n                        <td id=\"T_fc2ea_row97_col0\" class=\"data row97 col0\" >EOS bp nodes security checklist（EOS超级节点安全执行指南）</td>\n            </tr>\n            <tr>\n                        <th id=\"T_fc2ea_level0_row98\" class=\"row_heading level0 row98\" >897</th>\n                        <td id=\"T_fc2ea_row98_col0\" class=\"data row98 col0\" >BlockChain-Security-List</td>\n            </tr>\n            <tr>\n                        <th id=\"T_fc2ea_level0_row99\" class=\"row_heading level0 row99\" >900</th>\n                        <td id=\"T_fc2ea_row99_col0\" class=\"data row99 col0\" >SlowMist Vulnerability Research Advisories</td>\n            </tr>\n            <tr>\n                        <th id=\"T_fc2ea_level0_row100\" class=\"row_heading level0 row100\" >911</th>\n                        <td id=\"T_fc2ea_row100_col0\" class=\"data row100 col0\" >星云链 DApp 开发文档、资料、工具、教程大全 | A collection of Nebulas blockchain DApp development tools and docs</td>\n            </tr>\n            <tr>\n                        <th id=\"T_fc2ea_level0_row101\" class=\"row_heading level0 row101\" >915</th>\n                        <td id=\"T_fc2ea_row101_col0\" class=\"data row101 col0\" >A curated list of EOS Ecosystem by SuperONE.</td>\n            </tr>\n            <tr>\n                        <th id=\"T_fc2ea_level0_row102\" class=\"row_heading level0 row102\" >924</th>\n                        <td id=\"T_fc2ea_row102_col0\" class=\"data row102 col0\" >A Self-Owning, Self-Sustaining, Self-Improving Autonomous Artist Using the Ethereum Blockchain</td>\n            </tr>\n            <tr>\n                        <th id=\"T_fc2ea_level0_row103\" class=\"row_heading level0 row103\" >930</th>\n                        <td id=\"T_fc2ea_row103_col0\" class=\"data row103 col0\" >🐦🌴🌴🌴🦕 A home for ethereum smart contracts. 🏠</td>\n            </tr>\n            <tr>\n                        <th id=\"T_fc2ea_level0_row104\" class=\"row_heading level0 row104\" >933</th>\n                        <td id=\"T_fc2ea_row104_col0\" class=\"data row104 col0\" >Knowledge Base 慢雾安全团队知识库</td>\n            </tr>\n            <tr>\n                        <th id=\"T_fc2ea_level0_row105\" class=\"row_heading level0 row105\" >935</th>\n                        <td id=\"T_fc2ea_row105_col0\" class=\"data row105 col0\" >Path to become a blockchain developer through self-education.</td>\n            </tr>\n            <tr>\n                        <th id=\"T_fc2ea_level0_row106\" class=\"row_heading level0 row106\" >946</th>\n                        <td id=\"T_fc2ea_row106_col0\" class=\"data row106 col0\" >im-bug/BlockChain-Security-List</td>\n            </tr>\n            <tr>\n                        <th id=\"T_fc2ea_level0_row107\" class=\"row_heading level0 row107\" >964</th>\n                        <td id=\"T_fc2ea_row107_col0\" class=\"data row107 col0\" >This is my attempt to list all possible blockchain consensus out there, i welcome pull request of the blockchain community! lets make it the main reference for blockchain consensus</td>\n            </tr>\n            <tr>\n                        <th id=\"T_fc2ea_level0_row108\" class=\"row_heading level0 row108\" >975</th>\n                        <td id=\"T_fc2ea_row108_col0\" class=\"data row108 col0\" >Blockchain Frontier Technology Tracking</td>\n            </tr>\n            <tr>\n                        <th id=\"T_fc2ea_level0_row109\" class=\"row_heading level0 row109\" >978</th>\n                        <td id=\"T_fc2ea_row109_col0\" class=\"data row109 col0\" >The simplest self-taught roadmap for becoming a Solid Software Engineer  💻 🎓 ✨🔥  </td>\n            </tr>\n            <tr>\n                        <th id=\"T_fc2ea_level0_row110\" class=\"row_heading level0 row110\" >985</th>\n                        <td id=\"T_fc2ea_row110_col0\" class=\"data row110 col0\" >Directory of security contacts for blockchain companies</td>\n            </tr>\n            <tr>\n                        <th id=\"T_fc2ea_level0_row111\" class=\"row_heading level0 row111\" >998</th>\n                        <td id=\"T_fc2ea_row111_col0\" class=\"data row111 col0\" >区块链学习路上的一些资料作为参考</td>\n            </tr>\n            <tr>\n                        <th id=\"T_fc2ea_level0_row112\" class=\"row_heading level0 row112\" >1001</th>\n                        <td id=\"T_fc2ea_row112_col0\" class=\"data row112 col0\" >🥇掘金翻译计划 — 区块链分舵</td>\n            </tr>\n            <tr>\n                        <th id=\"T_fc2ea_level0_row113\" class=\"row_heading level0 row113\" >1015</th>\n                        <td id=\"T_fc2ea_row113_col0\" class=\"data row113 col0\" >The Elemental Battles Tutorial is divided into easy to follow lessons that take you through the process of creating your own fully-functional blockchain-based dApp.</td>\n            </tr>\n            <tr>\n                        <th id=\"T_fc2ea_level0_row114\" class=\"row_heading level0 row114\" >1025</th>\n                        <td id=\"T_fc2ea_row114_col0\" class=\"data row114 col0\" >🚀Awesome Solidity patterns to make life easier ✌️</td>\n            </tr>\n            <tr>\n                        <th id=\"T_fc2ea_level0_row115\" class=\"row_heading level0 row115\" >1031</th>\n                        <td id=\"T_fc2ea_row115_col0\" class=\"data row115 col0\" >A guide to EOS smart contract security best practices</td>\n            </tr>\n            <tr>\n                        <th id=\"T_fc2ea_level0_row116\" class=\"row_heading level0 row116\" >1053</th>\n                        <td id=\"T_fc2ea_row116_col0\" class=\"data row116 col0\" >An enterprise-grade Java-based, Apache 2.0 licensed Ethereum client</td>\n            </tr>\n            <tr>\n                        <th id=\"T_fc2ea_level0_row117\" class=\"row_heading level0 row117\" >1055</th>\n                        <td id=\"T_fc2ea_row117_col0\" class=\"data row117 col0\" >A curated list of awesome decentralized finance projects</td>\n            </tr>\n            <tr>\n                        <th id=\"T_fc2ea_level0_row118\" class=\"row_heading level0 row118\" >1057</th>\n                        <td id=\"T_fc2ea_row118_col0\" class=\"data row118 col0\" >区块链钱包技术指南</td>\n            </tr>\n            <tr>\n                        <th id=\"T_fc2ea_level0_row119\" class=\"row_heading level0 row119\" >1069</th>\n                        <td id=\"T_fc2ea_row119_col0\" class=\"data row119 col0\" >List of open source contracts for EOSIO blockchains</td>\n            </tr>\n            <tr>\n                        <th id=\"T_fc2ea_level0_row120\" class=\"row_heading level0 row120\" >1081</th>\n                        <td id=\"T_fc2ea_row120_col0\" class=\"data row120 col0\" >Blockchain educational resources curated by the OpenZeppelin team</td>\n            </tr>\n            <tr>\n                        <th id=\"T_fc2ea_level0_row121\" class=\"row_heading level0 row121\" >1084</th>\n                        <td id=\"T_fc2ea_row121_col0\" class=\"data row121 col0\" >AA Miner (BTC,BCH,LTC,XMR,DASH.. CryptoCoin Miner). Cryptocurrency(based on blockchain) Miner. AA Miner support 50+ algorithms.</td>\n            </tr>\n            <tr>\n                        <th id=\"T_fc2ea_level0_row122\" class=\"row_heading level0 row122\" >1099</th>\n                        <td id=\"T_fc2ea_row122_col0\" class=\"data row122 col0\" >All the layer 2 projects</td>\n            </tr>\n            <tr>\n                        <th id=\"T_fc2ea_level0_row123\" class=\"row_heading level0 row123\" >1102</th>\n                        <td id=\"T_fc2ea_row123_col0\" class=\"data row123 col0\" >IPFS 从入门到精通</td>\n            </tr>\n            <tr>\n                        <th id=\"T_fc2ea_level0_row124\" class=\"row_heading level0 row124\" >1114</th>\n                        <td id=\"T_fc2ea_row124_col0\" class=\"data row124 col0\" >Top Blockchain paper, such as CCS, NSDI, S&P, EuroS&P, CRYPTO, etc.</td>\n            </tr>\n            <tr>\n                        <th id=\"T_fc2ea_level0_row125\" class=\"row_heading level0 row125\" >1126</th>\n                        <td id=\"T_fc2ea_row125_col0\" class=\"data row125 col0\" >The existing blockchain-related academic papers. All papers are sorted according to the conference and published year.  Welcome developers or researchers to add more published papers to this list.</td>\n            </tr>\n            <tr>\n                        <th id=\"T_fc2ea_level0_row126\" class=\"row_heading level0 row126\" >1127</th>\n                        <td id=\"T_fc2ea_row126_col0\" class=\"data row126 col0\" >Store and reference data on the Bitcoin SV blockchain</td>\n            </tr>\n            <tr>\n                        <th id=\"T_fc2ea_level0_row127\" class=\"row_heading level0 row127\" >1133</th>\n                        <td id=\"T_fc2ea_row127_col0\" class=\"data row127 col0\" >This repo collects almost all the smart contract honeypots that you could find in the first three pages of Google search.</td>\n            </tr>\n            <tr>\n                        <th id=\"T_fc2ea_level0_row128\" class=\"row_heading level0 row128\" >1134</th>\n                        <td id=\"T_fc2ea_row128_col0\" class=\"data row128 col0\" >The Cryptographic Autonomy License is a new breed of open license that protects not just the app developers and users of the source code but also end user privacy and control of identity and data.</td>\n            </tr>\n            <tr>\n                        <th id=\"T_fc2ea_level0_row129\" class=\"row_heading level0 row129\" >1166</th>\n                        <td id=\"T_fc2ea_row129_col0\" class=\"data row129 col0\" >A curated list of awesome projects and resources related to the Substrate blockchain development framework.</td>\n            </tr>\n            <tr>\n                        <th id=\"T_fc2ea_level0_row130\" class=\"row_heading level0 row130\" >1175</th>\n                        <td id=\"T_fc2ea_row130_col0\" class=\"data row130 col0\" >The project is open-sourced and funded by Binance Lab.</td>\n            </tr>\n            <tr>\n                        <th id=\"T_fc2ea_level0_row131\" class=\"row_heading level0 row131\" >1194</th>\n                        <td id=\"T_fc2ea_row131_col0\" class=\"data row131 col0\" >Phishlets for Evilginx2 (MITM proxy Framework)</td>\n            </tr>\n            <tr>\n                        <th id=\"T_fc2ea_level0_row132\" class=\"row_heading level0 row132\" >1197</th>\n                        <td id=\"T_fc2ea_row132_col0\" class=\"data row132 col0\" >Elastic sidechains</td>\n            </tr>\n            <tr>\n                        <th id=\"T_fc2ea_level0_row133\" class=\"row_heading level0 row133\" >1200</th>\n                        <td id=\"T_fc2ea_row133_col0\" class=\"data row133 col0\" >Collect libraries and packages about blockchain/cryptography in Rust</td>\n            </tr>\n            <tr>\n                        <th id=\"T_fc2ea_level0_row134\" class=\"row_heading level0 row134\" >1204</th>\n                        <td id=\"T_fc2ea_row134_col0\" class=\"data row134 col0\" >Hyperledger Aries is infrastructure for blockchain-rooted, peer-to-peer interactions</td>\n            </tr>\n            <tr>\n                        <th id=\"T_fc2ea_level0_row135\" class=\"row_heading level0 row135\" >1219</th>\n                        <td id=\"T_fc2ea_row135_col0\" class=\"data row135 col0\" >A curated list of awesome TON ecosystem 😎</td>\n            </tr>\n            <tr>\n                        <th id=\"T_fc2ea_level0_row136\" class=\"row_heading level0 row136\" >1226</th>\n                        <td id=\"T_fc2ea_row136_col0\" class=\"data row136 col0\" >hummingbot中文资源</td>\n            </tr>\n            <tr>\n                        <th id=\"T_fc2ea_level0_row137\" class=\"row_heading level0 row137\" >1238</th>\n                        <td id=\"T_fc2ea_row137_col0\" class=\"data row137 col0\" >:octocat: A Curated List of Awesome Facebook Libra Resources.</td>\n            </tr>\n            <tr>\n                        <th id=\"T_fc2ea_level0_row138\" class=\"row_heading level0 row138\" >1241</th>\n                        <td id=\"T_fc2ea_row138_col0\" class=\"data row138 col0\" >💸 A curated, community compiled list of everywhere you can use the decentralized Dai stablecoin</td>\n            </tr>\n            <tr>\n                        <th id=\"T_fc2ea_level0_row139\" class=\"row_heading level0 row139\" >1246</th>\n                        <td id=\"T_fc2ea_row139_col0\" class=\"data row139 col0\" >A curated list of privacy on blockchains resources</td>\n            </tr>\n            <tr>\n                        <th id=\"T_fc2ea_level0_row140\" class=\"row_heading level0 row140\" >1247</th>\n                        <td id=\"T_fc2ea_row140_col0\" class=\"data row140 col0\" >👨‍🚀 A curated list of Stellar applications, blog posts, educational resources, tools, and more. </td>\n            </tr>\n            <tr>\n                        <th id=\"T_fc2ea_level0_row141\" class=\"row_heading level0 row141\" >1252</th>\n                        <td id=\"T_fc2ea_row141_col0\" class=\"data row141 col0\" >💰 Ethereum Wallet Comparison</td>\n            </tr>\n            <tr>\n                        <th id=\"T_fc2ea_level0_row142\" class=\"row_heading level0 row142\" >1265</th>\n                        <td id=\"T_fc2ea_row142_col0\" class=\"data row142 col0\" >Chain Agnostic Improvement Proposals</td>\n            </tr>\n            <tr>\n                        <th id=\"T_fc2ea_level0_row143\" class=\"row_heading level0 row143\" >1271</th>\n                        <td id=\"T_fc2ea_row143_col0\" class=\"data row143 col0\" >《Node.js区块链开发2》，全新代码，全新解读，请star关注源码：</td>\n            </tr>\n            <tr>\n                        <th id=\"T_fc2ea_level0_row144\" class=\"row_heading level0 row144\" >1274</th>\n                        <td id=\"T_fc2ea_row144_col0\" class=\"data row144 col0\" >Money legos all the way down</td>\n            </tr>\n            <tr>\n                        <th id=\"T_fc2ea_level0_row145\" class=\"row_heading level0 row145\" >1278</th>\n                        <td id=\"T_fc2ea_row145_col0\" class=\"data row145 col0\" >Fusion open source community (FOSC) improvement proposals</td>\n            </tr>\n            <tr>\n                        <th id=\"T_fc2ea_level0_row146\" class=\"row_heading level0 row146\" >1302</th>\n                        <td id=\"T_fc2ea_row146_col0\" class=\"data row146 col0\" >区块链的构造和解释（structure-and-interpretation-of-blockchain）</td>\n            </tr>\n            <tr>\n                        <th id=\"T_fc2ea_level0_row147\" class=\"row_heading level0 row147\" >1336</th>\n                        <td id=\"T_fc2ea_row147_col0\" class=\"data row147 col0\" >📚 Career Playbook For Blockchain Professionals</td>\n            </tr>\n            <tr>\n                        <th id=\"T_fc2ea_level0_row148\" class=\"row_heading level0 row148\" >1345</th>\n                        <td id=\"T_fc2ea_row148_col0\" class=\"data row148 col0\" >Binance Smart Chain</td>\n            </tr>\n            <tr>\n                        <th id=\"T_fc2ea_level0_row149\" class=\"row_heading level0 row149\" >1369</th>\n                        <td id=\"T_fc2ea_row149_col0\" class=\"data row149 col0\" >This repo is a one stop destination to find resources for learning various domains. You can find the roadmap for any domain here.</td>\n            </tr>\n            <tr>\n                        <th id=\"T_fc2ea_level0_row150\" class=\"row_heading level0 row150\" >1399</th>\n                        <td id=\"T_fc2ea_row150_col0\" class=\"data row150 col0\" >持续更新区块链行业技术知识</td>\n            </tr>\n            <tr>\n                        <th id=\"T_fc2ea_level0_row151\" class=\"row_heading level0 row151\" >1402</th>\n                        <td id=\"T_fc2ea_row151_col0\" class=\"data row151 col0\" >A curated list of blockchain security Capture the Flag (CTF) competitions</td>\n            </tr>\n            <tr>\n                        <th id=\"T_fc2ea_level0_row152\" class=\"row_heading level0 row152\" >1411</th>\n                        <td id=\"T_fc2ea_row152_col0\" class=\"data row152 col0\" >A curated list of blockchain security incidents including exchange hacks, DeFi compromises, blockchain attacks, and others.</td>\n            </tr>\n            <tr>\n                        <th id=\"T_fc2ea_level0_row153\" class=\"row_heading level0 row153\" >1420</th>\n                        <td id=\"T_fc2ea_row153_col0\" class=\"data row153 col0\" >Here we collect and discuss the best DeFI & Blockchain researches and tools. Feel free to DM me on Twitter or open pool request. </td>\n            </tr>\n    </tbody></table>"
     },
     "metadata": {},
     "execution_count": 7
    }
   ],
   "source": [
    "# todas as rows com Main Language nulo também possuem languages nulo\n",
    "print(df['Main Language'].isna().sum())\n",
    "print(df.loc[df['Main Language'].isna() & df['languages'].isna()].shape[0])\n",
    "\n",
    "# podemos ver aqui que a grande maioria dos repositórios com Main Language nulo são listas de conteúdo, READMEs, guias, tutoriais etc\n",
    "df.loc[df['Main Language'].isna(), 'Description'].to_frame().style.set_properties(**{'width': '900px', 'text-align': 'left'})"
   ]
  },
  {
   "cell_type": "code",
   "execution_count": 28,
   "metadata": {},
   "outputs": [
    {
     "output_type": "execute_result",
     "data": {
      "text/plain": [
       "             ID                         Name            Owner  \\\n",
       "0       2304420                  Bitcoin.org  bitcoin-dot-org   \n",
       "1       2724167                      rippled           ripple   \n",
       "2       2877991                block_browser           mhanne   \n",
       "3       3886965               bitcoin-wallet   bitcoin-wallet   \n",
       "4       3900173      unused-My-Wallet-iPhone       blockchain   \n",
       "...         ...                          ...              ...   \n",
       "1417  363445257                   machinaris         guydavis   \n",
       "1418  365701873                           ic          dfinity   \n",
       "1419  367841354        chaingreen-blockchain    ChainGreenOrg   \n",
       "1420  376155268  ultimate-defi-research-base       OffcierCia   \n",
       "1421  377341156              flax-blockchain     Flax-Network   \n",
       "\n",
       "                                            Description  \\\n",
       "0                                   Bitcoin.org Website   \n",
       "1     Decentralized cryptocurrency blockchain daemon...   \n",
       "2                            Bitcoin Blockchain Browser   \n",
       "3     Bitcoin Wallet app for your Android device. St...   \n",
       "4     For latest source, please see: https://github....   \n",
       "...                                                 ...   \n",
       "1417  An easy-to-use WebUI for Chia plotting and far...   \n",
       "1418  Internet Computer blockchain source: the clien...   \n",
       "1419                ChainGreenOrg/chaingreen-blockchain   \n",
       "1420  Here we collect and discuss the best DeFI & Bl...   \n",
       "1421                       Flax-Network/flax-blockchain   \n",
       "\n",
       "                                                 topics  Stargazers  \\\n",
       "0              bitcoin, blockchain, cryptocurrency, p2p        1150   \n",
       "1     xrpl, xrp-ledger, xrp, cplusplus, c-plus-plus,...        3877   \n",
       "2                                            blockchain          51   \n",
       "3     bitcoin, bitcoinj, bitcoin-wallet, android, ja...        2475   \n",
       "4                                            blockchain         128   \n",
       "...                                                 ...         ...   \n",
       "1417  chia, plotting, webui, plotman, chia-network, ...         131   \n",
       "1418                                         blockchain         653   \n",
       "1419                                         blockchain          50   \n",
       "1420                                         blockchain         164   \n",
       "1421                                         blockchain          66   \n",
       "\n",
       "      Subscribers  Forks Main Language  \\\n",
       "0             228   1931          HTML   \n",
       "1             506   1229           C++   \n",
       "2               7     22          Ruby   \n",
       "3             475   1660          Java   \n",
       "4              30     66      Assembly   \n",
       "...           ...    ...           ...   \n",
       "1417           16     17        Python   \n",
       "1418           41     49          Rust   \n",
       "1419            7     21        Python   \n",
       "1420           11     19      Markdown   \n",
       "1421           10     13        Python   \n",
       "\n",
       "                                              languages  Open Issues  \\\n",
       "0     HTML, SCSS, JavaScript, Less, Ruby, Shell, Mak...           70   \n",
       "1     C++, C, CMake, Shell, JavaScript, Java, Sage, ...          294   \n",
       "2             Ruby, HTML, CoffeeScript, CSS, JavaScript           11   \n",
       "3                                                  Java           86   \n",
       "4     Assembly, C, Objective-C, C++, HTML, Objective...            6   \n",
       "...                                                 ...          ...   \n",
       "1417         Python, HTML, Shell, PowerShell, CSS, Mako           19   \n",
       "1418  Rust, WebAssembly, Shell, Dockerfile, HTML, Mo...            0   \n",
       "1419              Python, Shell, PowerShell, Dockerfile           24   \n",
       "1420                                           Markdown            0   \n",
       "1421                          Python, Shell, PowerShell            5   \n",
       "\n",
       "      Contributors        Last Push At          Created At          Updated At  \n",
       "0              334 2021-06-23 11:51:52 2011-08-31 21:58:01 2021-06-24 04:36:53  \n",
       "1               89 2021-06-23 09:11:32 2011-11-07 04:40:15 2021-06-25 17:08:35  \n",
       "2                2 2016-07-21 15:07:16 2011-11-29 20:44:00 2019-09-26 01:05:39  \n",
       "3               27 2021-05-30 15:13:32 2012-03-31 17:06:47 2021-06-26 07:22:42  \n",
       "4                9 2015-09-01 21:20:50 2012-04-02 12:01:57 2021-02-15 00:40:30  \n",
       "...            ...                 ...                 ...                 ...  \n",
       "1417             3 2021-06-27 19:58:47 2021-05-01 15:36:50 2021-06-27 19:10:49  \n",
       "1418             1 2021-06-24 09:00:37 2021-05-09 08:16:37 2021-06-27 18:52:09  \n",
       "1419            71 2021-06-24 12:15:26 2021-05-16 09:53:27 2021-06-27 18:09:29  \n",
       "1420             7 2021-06-25 00:44:38 2021-06-11 22:27:41 2021-06-27 18:50:43  \n",
       "1421            68 2021-06-21 08:58:06 2021-06-16 01:52:16 2021-06-27 18:11:25  \n",
       "\n",
       "[1422 rows x 15 columns]"
      ],
      "text/html": "<div>\n<style scoped>\n    .dataframe tbody tr th:only-of-type {\n        vertical-align: middle;\n    }\n\n    .dataframe tbody tr th {\n        vertical-align: top;\n    }\n\n    .dataframe thead th {\n        text-align: right;\n    }\n</style>\n<table border=\"1\" class=\"dataframe\">\n  <thead>\n    <tr style=\"text-align: right;\">\n      <th></th>\n      <th>ID</th>\n      <th>Name</th>\n      <th>Owner</th>\n      <th>Description</th>\n      <th>topics</th>\n      <th>Stargazers</th>\n      <th>Subscribers</th>\n      <th>Forks</th>\n      <th>Main Language</th>\n      <th>languages</th>\n      <th>Open Issues</th>\n      <th>Contributors</th>\n      <th>Last Push At</th>\n      <th>Created At</th>\n      <th>Updated At</th>\n    </tr>\n  </thead>\n  <tbody>\n    <tr>\n      <th>0</th>\n      <td>2304420</td>\n      <td>Bitcoin.org</td>\n      <td>bitcoin-dot-org</td>\n      <td>Bitcoin.org Website</td>\n      <td>bitcoin, blockchain, cryptocurrency, p2p</td>\n      <td>1150</td>\n      <td>228</td>\n      <td>1931</td>\n      <td>HTML</td>\n      <td>HTML, SCSS, JavaScript, Less, Ruby, Shell, Mak...</td>\n      <td>70</td>\n      <td>334</td>\n      <td>2021-06-23 11:51:52</td>\n      <td>2011-08-31 21:58:01</td>\n      <td>2021-06-24 04:36:53</td>\n    </tr>\n    <tr>\n      <th>1</th>\n      <td>2724167</td>\n      <td>rippled</td>\n      <td>ripple</td>\n      <td>Decentralized cryptocurrency blockchain daemon...</td>\n      <td>xrpl, xrp-ledger, xrp, cplusplus, c-plus-plus,...</td>\n      <td>3877</td>\n      <td>506</td>\n      <td>1229</td>\n      <td>C++</td>\n      <td>C++, C, CMake, Shell, JavaScript, Java, Sage, ...</td>\n      <td>294</td>\n      <td>89</td>\n      <td>2021-06-23 09:11:32</td>\n      <td>2011-11-07 04:40:15</td>\n      <td>2021-06-25 17:08:35</td>\n    </tr>\n    <tr>\n      <th>2</th>\n      <td>2877991</td>\n      <td>block_browser</td>\n      <td>mhanne</td>\n      <td>Bitcoin Blockchain Browser</td>\n      <td>blockchain</td>\n      <td>51</td>\n      <td>7</td>\n      <td>22</td>\n      <td>Ruby</td>\n      <td>Ruby, HTML, CoffeeScript, CSS, JavaScript</td>\n      <td>11</td>\n      <td>2</td>\n      <td>2016-07-21 15:07:16</td>\n      <td>2011-11-29 20:44:00</td>\n      <td>2019-09-26 01:05:39</td>\n    </tr>\n    <tr>\n      <th>3</th>\n      <td>3886965</td>\n      <td>bitcoin-wallet</td>\n      <td>bitcoin-wallet</td>\n      <td>Bitcoin Wallet app for your Android device. St...</td>\n      <td>bitcoin, bitcoinj, bitcoin-wallet, android, ja...</td>\n      <td>2475</td>\n      <td>475</td>\n      <td>1660</td>\n      <td>Java</td>\n      <td>Java</td>\n      <td>86</td>\n      <td>27</td>\n      <td>2021-05-30 15:13:32</td>\n      <td>2012-03-31 17:06:47</td>\n      <td>2021-06-26 07:22:42</td>\n    </tr>\n    <tr>\n      <th>4</th>\n      <td>3900173</td>\n      <td>unused-My-Wallet-iPhone</td>\n      <td>blockchain</td>\n      <td>For latest source, please see: https://github....</td>\n      <td>blockchain</td>\n      <td>128</td>\n      <td>30</td>\n      <td>66</td>\n      <td>Assembly</td>\n      <td>Assembly, C, Objective-C, C++, HTML, Objective...</td>\n      <td>6</td>\n      <td>9</td>\n      <td>2015-09-01 21:20:50</td>\n      <td>2012-04-02 12:01:57</td>\n      <td>2021-02-15 00:40:30</td>\n    </tr>\n    <tr>\n      <th>...</th>\n      <td>...</td>\n      <td>...</td>\n      <td>...</td>\n      <td>...</td>\n      <td>...</td>\n      <td>...</td>\n      <td>...</td>\n      <td>...</td>\n      <td>...</td>\n      <td>...</td>\n      <td>...</td>\n      <td>...</td>\n      <td>...</td>\n      <td>...</td>\n      <td>...</td>\n    </tr>\n    <tr>\n      <th>1417</th>\n      <td>363445257</td>\n      <td>machinaris</td>\n      <td>guydavis</td>\n      <td>An easy-to-use WebUI for Chia plotting and far...</td>\n      <td>chia, plotting, webui, plotman, chia-network, ...</td>\n      <td>131</td>\n      <td>16</td>\n      <td>17</td>\n      <td>Python</td>\n      <td>Python, HTML, Shell, PowerShell, CSS, Mako</td>\n      <td>19</td>\n      <td>3</td>\n      <td>2021-06-27 19:58:47</td>\n      <td>2021-05-01 15:36:50</td>\n      <td>2021-06-27 19:10:49</td>\n    </tr>\n    <tr>\n      <th>1418</th>\n      <td>365701873</td>\n      <td>ic</td>\n      <td>dfinity</td>\n      <td>Internet Computer blockchain source: the clien...</td>\n      <td>blockchain</td>\n      <td>653</td>\n      <td>41</td>\n      <td>49</td>\n      <td>Rust</td>\n      <td>Rust, WebAssembly, Shell, Dockerfile, HTML, Mo...</td>\n      <td>0</td>\n      <td>1</td>\n      <td>2021-06-24 09:00:37</td>\n      <td>2021-05-09 08:16:37</td>\n      <td>2021-06-27 18:52:09</td>\n    </tr>\n    <tr>\n      <th>1419</th>\n      <td>367841354</td>\n      <td>chaingreen-blockchain</td>\n      <td>ChainGreenOrg</td>\n      <td>ChainGreenOrg/chaingreen-blockchain</td>\n      <td>blockchain</td>\n      <td>50</td>\n      <td>7</td>\n      <td>21</td>\n      <td>Python</td>\n      <td>Python, Shell, PowerShell, Dockerfile</td>\n      <td>24</td>\n      <td>71</td>\n      <td>2021-06-24 12:15:26</td>\n      <td>2021-05-16 09:53:27</td>\n      <td>2021-06-27 18:09:29</td>\n    </tr>\n    <tr>\n      <th>1420</th>\n      <td>376155268</td>\n      <td>ultimate-defi-research-base</td>\n      <td>OffcierCia</td>\n      <td>Here we collect and discuss the best DeFI &amp; Bl...</td>\n      <td>blockchain</td>\n      <td>164</td>\n      <td>11</td>\n      <td>19</td>\n      <td>Markdown</td>\n      <td>Markdown</td>\n      <td>0</td>\n      <td>7</td>\n      <td>2021-06-25 00:44:38</td>\n      <td>2021-06-11 22:27:41</td>\n      <td>2021-06-27 18:50:43</td>\n    </tr>\n    <tr>\n      <th>1421</th>\n      <td>377341156</td>\n      <td>flax-blockchain</td>\n      <td>Flax-Network</td>\n      <td>Flax-Network/flax-blockchain</td>\n      <td>blockchain</td>\n      <td>66</td>\n      <td>10</td>\n      <td>13</td>\n      <td>Python</td>\n      <td>Python, Shell, PowerShell</td>\n      <td>5</td>\n      <td>68</td>\n      <td>2021-06-21 08:58:06</td>\n      <td>2021-06-16 01:52:16</td>\n      <td>2021-06-27 18:11:25</td>\n    </tr>\n  </tbody>\n</table>\n<p>1422 rows × 15 columns</p>\n</div>"
     },
     "metadata": {},
     "execution_count": 28
    }
   ],
   "source": [
    "# assim, podemos colocar em Main Language e language o valor Markdown, que é a linguagem padrão para os READMEs criados pelo github\n",
    "df['Main Language'] = df['Main Language'].fillna('Markdown')\n",
    "df['languages'] = df['languages'].fillna('Markdown')\n",
    "df"
   ]
  },
  {
   "cell_type": "code",
   "execution_count": 23,
   "metadata": {},
   "outputs": [
    {
     "output_type": "execute_result",
     "data": {
      "text/plain": [
       "             ID                         Name            Owner  \\\n",
       "0       2304420                  Bitcoin.org  bitcoin-dot-org   \n",
       "1       2724167                      rippled           ripple   \n",
       "2       2877991                block_browser           mhanne   \n",
       "3       3886965               bitcoin-wallet   bitcoin-wallet   \n",
       "4       3900173      unused-My-Wallet-iPhone       blockchain   \n",
       "...         ...                          ...              ...   \n",
       "1417  363445257                   machinaris         guydavis   \n",
       "1418  365701873                           ic          dfinity   \n",
       "1419  367841354        chaingreen-blockchain    ChainGreenOrg   \n",
       "1420  376155268  ultimate-defi-research-base       OffcierCia   \n",
       "1421  377341156              flax-blockchain     Flax-Network   \n",
       "\n",
       "                                            Description  \\\n",
       "0                                   Bitcoin.org Website   \n",
       "1     Decentralized cryptocurrency blockchain daemon...   \n",
       "2                            Bitcoin Blockchain Browser   \n",
       "3     Bitcoin Wallet app for your Android device. St...   \n",
       "4     For latest source, please see: https://github....   \n",
       "...                                                 ...   \n",
       "1417  An easy-to-use WebUI for Chia plotting and far...   \n",
       "1418  Internet Computer blockchain source: the clien...   \n",
       "1419                ChainGreenOrg/chaingreen-blockchain   \n",
       "1420  Here we collect and discuss the best DeFI & Bl...   \n",
       "1421                       Flax-Network/flax-blockchain   \n",
       "\n",
       "                                                 topics  Stargazers  \\\n",
       "0              bitcoin, blockchain, cryptocurrency, p2p        1150   \n",
       "1     xrpl, xrp-ledger, xrp, cplusplus, c-plus-plus,...        3877   \n",
       "2                                            blockchain          51   \n",
       "3     bitcoin, bitcoinj, bitcoin-wallet, android, ja...        2475   \n",
       "4                                            blockchain         128   \n",
       "...                                                 ...         ...   \n",
       "1417  chia, plotting, webui, plotman, chia-network, ...         131   \n",
       "1418                                         blockchain         653   \n",
       "1419                                         blockchain          50   \n",
       "1420                                         blockchain         164   \n",
       "1421                                         blockchain          66   \n",
       "\n",
       "      Subscribers  Forks Main Language  \\\n",
       "0             228   1931          HTML   \n",
       "1             506   1229           C++   \n",
       "2               7     22          Ruby   \n",
       "3             475   1660          Java   \n",
       "4              30     66      Assembly   \n",
       "...           ...    ...           ...   \n",
       "1417           16     17        Python   \n",
       "1418           41     49          Rust   \n",
       "1419            7     21        Python   \n",
       "1420           11     19      Markdown   \n",
       "1421           10     13        Python   \n",
       "\n",
       "                                              languages  Open Issues  \\\n",
       "0     HTML, SCSS, JavaScript, Less, Ruby, Shell, Mak...           70   \n",
       "1     C++, C, CMake, Shell, JavaScript, Java, Sage, ...          294   \n",
       "2             Ruby, HTML, CoffeeScript, CSS, JavaScript           11   \n",
       "3                                                  Java           86   \n",
       "4     Assembly, C, Objective-C, C++, HTML, Objective...            6   \n",
       "...                                                 ...          ...   \n",
       "1417         Python, HTML, Shell, PowerShell, CSS, Mako           19   \n",
       "1418  Rust, WebAssembly, Shell, Dockerfile, HTML, Mo...            0   \n",
       "1419              Python, Shell, PowerShell, Dockerfile           24   \n",
       "1420                                           Markdown            0   \n",
       "1421                          Python, Shell, PowerShell            5   \n",
       "\n",
       "      Contributors        Last Push At          Created At          Updated At  \n",
       "0              334 2021-06-23 11:51:52 2011-08-31 21:58:01 2021-06-24 04:36:53  \n",
       "1               89 2021-06-23 09:11:32 2011-11-07 04:40:15 2021-06-25 17:08:35  \n",
       "2                2 2016-07-21 15:07:16 2011-11-29 20:44:00 2019-09-26 01:05:39  \n",
       "3               27 2021-05-30 15:13:32 2012-03-31 17:06:47 2021-06-26 07:22:42  \n",
       "4                9 2015-09-01 21:20:50 2012-04-02 12:01:57 2021-02-15 00:40:30  \n",
       "...            ...                 ...                 ...                 ...  \n",
       "1417             3 2021-06-27 19:58:47 2021-05-01 15:36:50 2021-06-27 19:10:49  \n",
       "1418             1 2021-06-24 09:00:37 2021-05-09 08:16:37 2021-06-27 18:52:09  \n",
       "1419            71 2021-06-24 12:15:26 2021-05-16 09:53:27 2021-06-27 18:09:29  \n",
       "1420             7 2021-06-25 00:44:38 2021-06-11 22:27:41 2021-06-27 18:50:43  \n",
       "1421            68 2021-06-21 08:58:06 2021-06-16 01:52:16 2021-06-27 18:11:25  \n",
       "\n",
       "[1422 rows x 15 columns]"
      ],
      "text/html": "<div>\n<style scoped>\n    .dataframe tbody tr th:only-of-type {\n        vertical-align: middle;\n    }\n\n    .dataframe tbody tr th {\n        vertical-align: top;\n    }\n\n    .dataframe thead th {\n        text-align: right;\n    }\n</style>\n<table border=\"1\" class=\"dataframe\">\n  <thead>\n    <tr style=\"text-align: right;\">\n      <th></th>\n      <th>ID</th>\n      <th>Name</th>\n      <th>Owner</th>\n      <th>Description</th>\n      <th>topics</th>\n      <th>Stargazers</th>\n      <th>Subscribers</th>\n      <th>Forks</th>\n      <th>Main Language</th>\n      <th>languages</th>\n      <th>Open Issues</th>\n      <th>Contributors</th>\n      <th>Last Push At</th>\n      <th>Created At</th>\n      <th>Updated At</th>\n    </tr>\n  </thead>\n  <tbody>\n    <tr>\n      <th>0</th>\n      <td>2304420</td>\n      <td>Bitcoin.org</td>\n      <td>bitcoin-dot-org</td>\n      <td>Bitcoin.org Website</td>\n      <td>bitcoin, blockchain, cryptocurrency, p2p</td>\n      <td>1150</td>\n      <td>228</td>\n      <td>1931</td>\n      <td>HTML</td>\n      <td>HTML, SCSS, JavaScript, Less, Ruby, Shell, Mak...</td>\n      <td>70</td>\n      <td>334</td>\n      <td>2021-06-23 11:51:52</td>\n      <td>2011-08-31 21:58:01</td>\n      <td>2021-06-24 04:36:53</td>\n    </tr>\n    <tr>\n      <th>1</th>\n      <td>2724167</td>\n      <td>rippled</td>\n      <td>ripple</td>\n      <td>Decentralized cryptocurrency blockchain daemon...</td>\n      <td>xrpl, xrp-ledger, xrp, cplusplus, c-plus-plus,...</td>\n      <td>3877</td>\n      <td>506</td>\n      <td>1229</td>\n      <td>C++</td>\n      <td>C++, C, CMake, Shell, JavaScript, Java, Sage, ...</td>\n      <td>294</td>\n      <td>89</td>\n      <td>2021-06-23 09:11:32</td>\n      <td>2011-11-07 04:40:15</td>\n      <td>2021-06-25 17:08:35</td>\n    </tr>\n    <tr>\n      <th>2</th>\n      <td>2877991</td>\n      <td>block_browser</td>\n      <td>mhanne</td>\n      <td>Bitcoin Blockchain Browser</td>\n      <td>blockchain</td>\n      <td>51</td>\n      <td>7</td>\n      <td>22</td>\n      <td>Ruby</td>\n      <td>Ruby, HTML, CoffeeScript, CSS, JavaScript</td>\n      <td>11</td>\n      <td>2</td>\n      <td>2016-07-21 15:07:16</td>\n      <td>2011-11-29 20:44:00</td>\n      <td>2019-09-26 01:05:39</td>\n    </tr>\n    <tr>\n      <th>3</th>\n      <td>3886965</td>\n      <td>bitcoin-wallet</td>\n      <td>bitcoin-wallet</td>\n      <td>Bitcoin Wallet app for your Android device. St...</td>\n      <td>bitcoin, bitcoinj, bitcoin-wallet, android, ja...</td>\n      <td>2475</td>\n      <td>475</td>\n      <td>1660</td>\n      <td>Java</td>\n      <td>Java</td>\n      <td>86</td>\n      <td>27</td>\n      <td>2021-05-30 15:13:32</td>\n      <td>2012-03-31 17:06:47</td>\n      <td>2021-06-26 07:22:42</td>\n    </tr>\n    <tr>\n      <th>4</th>\n      <td>3900173</td>\n      <td>unused-My-Wallet-iPhone</td>\n      <td>blockchain</td>\n      <td>For latest source, please see: https://github....</td>\n      <td>blockchain</td>\n      <td>128</td>\n      <td>30</td>\n      <td>66</td>\n      <td>Assembly</td>\n      <td>Assembly, C, Objective-C, C++, HTML, Objective...</td>\n      <td>6</td>\n      <td>9</td>\n      <td>2015-09-01 21:20:50</td>\n      <td>2012-04-02 12:01:57</td>\n      <td>2021-02-15 00:40:30</td>\n    </tr>\n    <tr>\n      <th>...</th>\n      <td>...</td>\n      <td>...</td>\n      <td>...</td>\n      <td>...</td>\n      <td>...</td>\n      <td>...</td>\n      <td>...</td>\n      <td>...</td>\n      <td>...</td>\n      <td>...</td>\n      <td>...</td>\n      <td>...</td>\n      <td>...</td>\n      <td>...</td>\n      <td>...</td>\n    </tr>\n    <tr>\n      <th>1417</th>\n      <td>363445257</td>\n      <td>machinaris</td>\n      <td>guydavis</td>\n      <td>An easy-to-use WebUI for Chia plotting and far...</td>\n      <td>chia, plotting, webui, plotman, chia-network, ...</td>\n      <td>131</td>\n      <td>16</td>\n      <td>17</td>\n      <td>Python</td>\n      <td>Python, HTML, Shell, PowerShell, CSS, Mako</td>\n      <td>19</td>\n      <td>3</td>\n      <td>2021-06-27 19:58:47</td>\n      <td>2021-05-01 15:36:50</td>\n      <td>2021-06-27 19:10:49</td>\n    </tr>\n    <tr>\n      <th>1418</th>\n      <td>365701873</td>\n      <td>ic</td>\n      <td>dfinity</td>\n      <td>Internet Computer blockchain source: the clien...</td>\n      <td>blockchain</td>\n      <td>653</td>\n      <td>41</td>\n      <td>49</td>\n      <td>Rust</td>\n      <td>Rust, WebAssembly, Shell, Dockerfile, HTML, Mo...</td>\n      <td>0</td>\n      <td>1</td>\n      <td>2021-06-24 09:00:37</td>\n      <td>2021-05-09 08:16:37</td>\n      <td>2021-06-27 18:52:09</td>\n    </tr>\n    <tr>\n      <th>1419</th>\n      <td>367841354</td>\n      <td>chaingreen-blockchain</td>\n      <td>ChainGreenOrg</td>\n      <td>ChainGreenOrg/chaingreen-blockchain</td>\n      <td>blockchain</td>\n      <td>50</td>\n      <td>7</td>\n      <td>21</td>\n      <td>Python</td>\n      <td>Python, Shell, PowerShell, Dockerfile</td>\n      <td>24</td>\n      <td>71</td>\n      <td>2021-06-24 12:15:26</td>\n      <td>2021-05-16 09:53:27</td>\n      <td>2021-06-27 18:09:29</td>\n    </tr>\n    <tr>\n      <th>1420</th>\n      <td>376155268</td>\n      <td>ultimate-defi-research-base</td>\n      <td>OffcierCia</td>\n      <td>Here we collect and discuss the best DeFI &amp; Bl...</td>\n      <td>blockchain</td>\n      <td>164</td>\n      <td>11</td>\n      <td>19</td>\n      <td>Markdown</td>\n      <td>Markdown</td>\n      <td>0</td>\n      <td>7</td>\n      <td>2021-06-25 00:44:38</td>\n      <td>2021-06-11 22:27:41</td>\n      <td>2021-06-27 18:50:43</td>\n    </tr>\n    <tr>\n      <th>1421</th>\n      <td>377341156</td>\n      <td>flax-blockchain</td>\n      <td>Flax-Network</td>\n      <td>Flax-Network/flax-blockchain</td>\n      <td>blockchain</td>\n      <td>66</td>\n      <td>10</td>\n      <td>13</td>\n      <td>Python</td>\n      <td>Python, Shell, PowerShell</td>\n      <td>5</td>\n      <td>68</td>\n      <td>2021-06-21 08:58:06</td>\n      <td>2021-06-16 01:52:16</td>\n      <td>2021-06-27 18:11:25</td>\n    </tr>\n  </tbody>\n</table>\n<p>1422 rows × 15 columns</p>\n</div>"
     },
     "metadata": {},
     "execution_count": 23
    }
   ],
   "source": [
    "# ainda resta topics. para essa feature, podemos assumir que todos os resultados da pesquisa são \n",
    "# relacionados ao conceito de blockchain, portanto substitui os valores nulos pelo tópico blockchain\n",
    "df['topics'] = df['topics'].fillna('blockchain')\n",
    "df"
   ]
  },
  {
   "cell_type": "code",
   "execution_count": 30,
   "metadata": {},
   "outputs": [
    {
     "output_type": "execute_result",
     "data": {
      "text/plain": [
       "ID               0\n",
       "Name             0\n",
       "Owner            0\n",
       "Description      0\n",
       "topics           0\n",
       "Stargazers       0\n",
       "Subscribers      0\n",
       "Forks            0\n",
       "Main Language    0\n",
       "languages        0\n",
       "Open Issues      0\n",
       "Contributors     0\n",
       "Last Push At     0\n",
       "Created At       0\n",
       "Updated At       0\n",
       "dtype: int64"
      ]
     },
     "metadata": {},
     "execution_count": 30
    }
   ],
   "source": [
    "df.isna().sum()"
   ]
  },
  {
   "source": [
    "### Tratando de topics e languages"
   ],
   "cell_type": "markdown",
   "metadata": {}
  },
  {
   "cell_type": "code",
   "execution_count": 24,
   "metadata": {},
   "outputs": [
    {
     "output_type": "stream",
     "name": "stdout",
     "text": [
      "temos 2316 strings em topics\ntemos 151 strings em languages\n"
     ]
    }
   ],
   "source": [
    "def get_feature_value_list(df, feature, sep):\n",
    "    \"\"\"\n",
    "    retorna lista de valores únicos da feature selecionada, sendo ela uma lista de strings separada por virgula\n",
    "    \"\"\"\n",
    "\n",
    "    feature_values = df.loc[df[feature].notna()][feature].to_list()\n",
    "    rs = []\n",
    "    for values in feature_values:\n",
    "        for value in values.split(sep):\n",
    "            rs.append(value)\n",
    "    return sorted(set(rs))\n",
    "\n",
    "topics = get_feature_value_list(df, 'topics', ', ')\n",
    "languages = get_feature_value_list(df, 'languages', ', ')\n",
    "print(f'temos {len(topics)} strings em topics')\n",
    "print(f'temos {len(languages)} strings em languages')"
   ]
  },
  {
   "cell_type": "code",
   "execution_count": 25,
   "metadata": {},
   "outputs": [
    {
     "output_type": "execute_result",
     "data": {
      "text/plain": [
       "      ANTLR  API Blueprint  ASP  ASP.NET  Ada  Agda  ApacheConf  AppleScript  \\\n",
       "0         0              0    0        0    0     0           0            0   \n",
       "1         0              0    0        0    0     0           0            0   \n",
       "2         0              0    0        0    0     0           0            0   \n",
       "3         0              0    0        0    0     0           0            0   \n",
       "4         0              0    0        0    0     0           0            0   \n",
       "...     ...            ...  ...      ...  ...   ...         ...          ...   \n",
       "1417      0              0    0        0    0     0           0            0   \n",
       "1418      0              0    0        0    0     0           0            0   \n",
       "1419      0              0    0        0    0     0           0            0   \n",
       "1420      0              0    0        0    0     0           0            0   \n",
       "1421      0              0    0        0    0     0           0            0   \n",
       "\n",
       "      Assembly  Awk  ...  Visual Basic  Vue  WebAssembly  XS  XSLT  Yacc  eC  \\\n",
       "0            0    0  ...             0    0            0   0     0     0   0   \n",
       "1            1    0  ...             0    0            0   0     0     0   0   \n",
       "2            0    0  ...             0    0            0   0     0     0   0   \n",
       "3            0    0  ...             0    0            0   0     0     0   0   \n",
       "4            1    0  ...             0    0            0   0     0     0   0   \n",
       "...        ...  ...  ...           ...  ...          ...  ..   ...   ...  ..   \n",
       "1417         0    0  ...             0    0            0   0     0     0   0   \n",
       "1418         0    0  ...             0    0            1   0     0     0   0   \n",
       "1419         0    0  ...             0    0            0   0     0     0   0   \n",
       "1420         0    0  ...             0    0            0   0     0     0   0   \n",
       "1421         0    0  ...             0    0            0   0     0     0   0   \n",
       "\n",
       "      jq  q  sed  \n",
       "0      0  0    0  \n",
       "1      0  0    0  \n",
       "2      0  0    0  \n",
       "3      0  0    0  \n",
       "4      0  0    0  \n",
       "...   .. ..  ...  \n",
       "1417   0  0    0  \n",
       "1418   0  0    0  \n",
       "1419   0  0    0  \n",
       "1420   0  0    0  \n",
       "1421   0  0    0  \n",
       "\n",
       "[1422 rows x 151 columns]"
      ],
      "text/html": "<div>\n<style scoped>\n    .dataframe tbody tr th:only-of-type {\n        vertical-align: middle;\n    }\n\n    .dataframe tbody tr th {\n        vertical-align: top;\n    }\n\n    .dataframe thead th {\n        text-align: right;\n    }\n</style>\n<table border=\"1\" class=\"dataframe\">\n  <thead>\n    <tr style=\"text-align: right;\">\n      <th></th>\n      <th>ANTLR</th>\n      <th>API Blueprint</th>\n      <th>ASP</th>\n      <th>ASP.NET</th>\n      <th>Ada</th>\n      <th>Agda</th>\n      <th>ApacheConf</th>\n      <th>AppleScript</th>\n      <th>Assembly</th>\n      <th>Awk</th>\n      <th>...</th>\n      <th>Visual Basic</th>\n      <th>Vue</th>\n      <th>WebAssembly</th>\n      <th>XS</th>\n      <th>XSLT</th>\n      <th>Yacc</th>\n      <th>eC</th>\n      <th>jq</th>\n      <th>q</th>\n      <th>sed</th>\n    </tr>\n  </thead>\n  <tbody>\n    <tr>\n      <th>0</th>\n      <td>0</td>\n      <td>0</td>\n      <td>0</td>\n      <td>0</td>\n      <td>0</td>\n      <td>0</td>\n      <td>0</td>\n      <td>0</td>\n      <td>0</td>\n      <td>0</td>\n      <td>...</td>\n      <td>0</td>\n      <td>0</td>\n      <td>0</td>\n      <td>0</td>\n      <td>0</td>\n      <td>0</td>\n      <td>0</td>\n      <td>0</td>\n      <td>0</td>\n      <td>0</td>\n    </tr>\n    <tr>\n      <th>1</th>\n      <td>0</td>\n      <td>0</td>\n      <td>0</td>\n      <td>0</td>\n      <td>0</td>\n      <td>0</td>\n      <td>0</td>\n      <td>0</td>\n      <td>1</td>\n      <td>0</td>\n      <td>...</td>\n      <td>0</td>\n      <td>0</td>\n      <td>0</td>\n      <td>0</td>\n      <td>0</td>\n      <td>0</td>\n      <td>0</td>\n      <td>0</td>\n      <td>0</td>\n      <td>0</td>\n    </tr>\n    <tr>\n      <th>2</th>\n      <td>0</td>\n      <td>0</td>\n      <td>0</td>\n      <td>0</td>\n      <td>0</td>\n      <td>0</td>\n      <td>0</td>\n      <td>0</td>\n      <td>0</td>\n      <td>0</td>\n      <td>...</td>\n      <td>0</td>\n      <td>0</td>\n      <td>0</td>\n      <td>0</td>\n      <td>0</td>\n      <td>0</td>\n      <td>0</td>\n      <td>0</td>\n      <td>0</td>\n      <td>0</td>\n    </tr>\n    <tr>\n      <th>3</th>\n      <td>0</td>\n      <td>0</td>\n      <td>0</td>\n      <td>0</td>\n      <td>0</td>\n      <td>0</td>\n      <td>0</td>\n      <td>0</td>\n      <td>0</td>\n      <td>0</td>\n      <td>...</td>\n      <td>0</td>\n      <td>0</td>\n      <td>0</td>\n      <td>0</td>\n      <td>0</td>\n      <td>0</td>\n      <td>0</td>\n      <td>0</td>\n      <td>0</td>\n      <td>0</td>\n    </tr>\n    <tr>\n      <th>4</th>\n      <td>0</td>\n      <td>0</td>\n      <td>0</td>\n      <td>0</td>\n      <td>0</td>\n      <td>0</td>\n      <td>0</td>\n      <td>0</td>\n      <td>1</td>\n      <td>0</td>\n      <td>...</td>\n      <td>0</td>\n      <td>0</td>\n      <td>0</td>\n      <td>0</td>\n      <td>0</td>\n      <td>0</td>\n      <td>0</td>\n      <td>0</td>\n      <td>0</td>\n      <td>0</td>\n    </tr>\n    <tr>\n      <th>...</th>\n      <td>...</td>\n      <td>...</td>\n      <td>...</td>\n      <td>...</td>\n      <td>...</td>\n      <td>...</td>\n      <td>...</td>\n      <td>...</td>\n      <td>...</td>\n      <td>...</td>\n      <td>...</td>\n      <td>...</td>\n      <td>...</td>\n      <td>...</td>\n      <td>...</td>\n      <td>...</td>\n      <td>...</td>\n      <td>...</td>\n      <td>...</td>\n      <td>...</td>\n      <td>...</td>\n    </tr>\n    <tr>\n      <th>1417</th>\n      <td>0</td>\n      <td>0</td>\n      <td>0</td>\n      <td>0</td>\n      <td>0</td>\n      <td>0</td>\n      <td>0</td>\n      <td>0</td>\n      <td>0</td>\n      <td>0</td>\n      <td>...</td>\n      <td>0</td>\n      <td>0</td>\n      <td>0</td>\n      <td>0</td>\n      <td>0</td>\n      <td>0</td>\n      <td>0</td>\n      <td>0</td>\n      <td>0</td>\n      <td>0</td>\n    </tr>\n    <tr>\n      <th>1418</th>\n      <td>0</td>\n      <td>0</td>\n      <td>0</td>\n      <td>0</td>\n      <td>0</td>\n      <td>0</td>\n      <td>0</td>\n      <td>0</td>\n      <td>0</td>\n      <td>0</td>\n      <td>...</td>\n      <td>0</td>\n      <td>0</td>\n      <td>1</td>\n      <td>0</td>\n      <td>0</td>\n      <td>0</td>\n      <td>0</td>\n      <td>0</td>\n      <td>0</td>\n      <td>0</td>\n    </tr>\n    <tr>\n      <th>1419</th>\n      <td>0</td>\n      <td>0</td>\n      <td>0</td>\n      <td>0</td>\n      <td>0</td>\n      <td>0</td>\n      <td>0</td>\n      <td>0</td>\n      <td>0</td>\n      <td>0</td>\n      <td>...</td>\n      <td>0</td>\n      <td>0</td>\n      <td>0</td>\n      <td>0</td>\n      <td>0</td>\n      <td>0</td>\n      <td>0</td>\n      <td>0</td>\n      <td>0</td>\n      <td>0</td>\n    </tr>\n    <tr>\n      <th>1420</th>\n      <td>0</td>\n      <td>0</td>\n      <td>0</td>\n      <td>0</td>\n      <td>0</td>\n      <td>0</td>\n      <td>0</td>\n      <td>0</td>\n      <td>0</td>\n      <td>0</td>\n      <td>...</td>\n      <td>0</td>\n      <td>0</td>\n      <td>0</td>\n      <td>0</td>\n      <td>0</td>\n      <td>0</td>\n      <td>0</td>\n      <td>0</td>\n      <td>0</td>\n      <td>0</td>\n    </tr>\n    <tr>\n      <th>1421</th>\n      <td>0</td>\n      <td>0</td>\n      <td>0</td>\n      <td>0</td>\n      <td>0</td>\n      <td>0</td>\n      <td>0</td>\n      <td>0</td>\n      <td>0</td>\n      <td>0</td>\n      <td>...</td>\n      <td>0</td>\n      <td>0</td>\n      <td>0</td>\n      <td>0</td>\n      <td>0</td>\n      <td>0</td>\n      <td>0</td>\n      <td>0</td>\n      <td>0</td>\n      <td>0</td>\n    </tr>\n  </tbody>\n</table>\n<p>1422 rows × 151 columns</p>\n</div>"
     },
     "metadata": {},
     "execution_count": 25
    }
   ],
   "source": [
    "def feature_has_string_from_df(df, feature, string_list):\n",
    "    \"\"\"\n",
    "    retorna um dataframe de valores 0 e 1 e colunas string_list para cada string que aparece em feature.\n",
    "    \"\"\"\n",
    "\n",
    "    rdf = pd.DataFrame(columns=string_list)\n",
    "    for string in string_list:\n",
    "        values = df[feature].str.contains(f'(?<![\\w-]){re.escape(string)}(?=,|$)(?![\\w-])').fillna(0).astype(int)\n",
    "        rdf[string] = values\n",
    "    return rdf\n",
    "\n",
    "df_languages = feature_has_string_from_df(df, 'languages', languages)\n",
    "df_languages"
   ]
  },
  {
   "cell_type": "code",
   "execution_count": 31,
   "metadata": {},
   "outputs": [
    {
     "output_type": "execute_result",
     "data": {
      "text/plain": [
       "Max             1\n",
       "GAP             1\n",
       "HLSL            1\n",
       "Haml            1\n",
       "Haxe            1\n",
       "             ... \n",
       "Python        338\n",
       "Dockerfile    394\n",
       "HTML          486\n",
       "JavaScript    654\n",
       "Shell         689\n",
       "Length: 151, dtype: int64"
      ]
     },
     "metadata": {},
     "execution_count": 31
    }
   ],
   "source": [
    "df_languages.sum().sort_values()"
   ]
  },
  {
   "cell_type": "code",
   "execution_count": 26,
   "metadata": {},
   "outputs": [
    {
     "output_type": "execute_result",
     "data": {
      "text/plain": [
       "      0xcert  0xprotocol  10000  2017  2021  24x24  2d-game  996  abci  abi  \\\n",
       "0          0           0      0     0     0      0        0    0     0    0   \n",
       "1          0           0      0     0     0      0        0    0     0    0   \n",
       "2          0           0      0     0     0      0        0    0     0    0   \n",
       "3          0           0      0     0     0      0        0    0     0    0   \n",
       "4          0           0      0     0     0      0        0    0     0    0   \n",
       "...      ...         ...    ...   ...   ...    ...      ...  ...   ...  ...   \n",
       "1417       0           0      0     0     0      0        0    0     0    0   \n",
       "1418       0           0      0     0     0      0        0    0     0    0   \n",
       "1419       0           0      0     0     0      0        0    0     0    0   \n",
       "1420       0           0      0     0     0      0        0    0     0    0   \n",
       "1421       0           0      0     0     0      0        0    0     0    0   \n",
       "\n",
       "      ...  zcoin  zero-knowledge  zero-knowledge-proofs  zerocoin  zilliqa  \\\n",
       "0     ...      0               0                      0         0        0   \n",
       "1     ...      0               0                      0         0        0   \n",
       "2     ...      0               0                      0         0        0   \n",
       "3     ...      0               0                      0         0        0   \n",
       "4     ...      0               0                      0         0        0   \n",
       "...   ...    ...             ...                    ...       ...      ...   \n",
       "1417  ...      0               0                      0         0        0   \n",
       "1418  ...      0               0                      0         0        0   \n",
       "1419  ...      0               0                      0         0        0   \n",
       "1420  ...      0               0                      0         0        0   \n",
       "1421  ...      0               0                      0         0        0   \n",
       "\n",
       "      zk-snarks  zkp  zksnarks  zns  zpk  \n",
       "0             0    0         0    0    0  \n",
       "1             0    0         0    0    0  \n",
       "2             0    0         0    0    0  \n",
       "3             0    0         0    0    0  \n",
       "4             0    0         0    0    0  \n",
       "...         ...  ...       ...  ...  ...  \n",
       "1417          0    0         0    0    0  \n",
       "1418          0    0         0    0    0  \n",
       "1419          0    0         0    0    0  \n",
       "1420          0    0         0    0    0  \n",
       "1421          0    0         0    0    0  \n",
       "\n",
       "[1422 rows x 2316 columns]"
      ],
      "text/html": "<div>\n<style scoped>\n    .dataframe tbody tr th:only-of-type {\n        vertical-align: middle;\n    }\n\n    .dataframe tbody tr th {\n        vertical-align: top;\n    }\n\n    .dataframe thead th {\n        text-align: right;\n    }\n</style>\n<table border=\"1\" class=\"dataframe\">\n  <thead>\n    <tr style=\"text-align: right;\">\n      <th></th>\n      <th>0xcert</th>\n      <th>0xprotocol</th>\n      <th>10000</th>\n      <th>2017</th>\n      <th>2021</th>\n      <th>24x24</th>\n      <th>2d-game</th>\n      <th>996</th>\n      <th>abci</th>\n      <th>abi</th>\n      <th>...</th>\n      <th>zcoin</th>\n      <th>zero-knowledge</th>\n      <th>zero-knowledge-proofs</th>\n      <th>zerocoin</th>\n      <th>zilliqa</th>\n      <th>zk-snarks</th>\n      <th>zkp</th>\n      <th>zksnarks</th>\n      <th>zns</th>\n      <th>zpk</th>\n    </tr>\n  </thead>\n  <tbody>\n    <tr>\n      <th>0</th>\n      <td>0</td>\n      <td>0</td>\n      <td>0</td>\n      <td>0</td>\n      <td>0</td>\n      <td>0</td>\n      <td>0</td>\n      <td>0</td>\n      <td>0</td>\n      <td>0</td>\n      <td>...</td>\n      <td>0</td>\n      <td>0</td>\n      <td>0</td>\n      <td>0</td>\n      <td>0</td>\n      <td>0</td>\n      <td>0</td>\n      <td>0</td>\n      <td>0</td>\n      <td>0</td>\n    </tr>\n    <tr>\n      <th>1</th>\n      <td>0</td>\n      <td>0</td>\n      <td>0</td>\n      <td>0</td>\n      <td>0</td>\n      <td>0</td>\n      <td>0</td>\n      <td>0</td>\n      <td>0</td>\n      <td>0</td>\n      <td>...</td>\n      <td>0</td>\n      <td>0</td>\n      <td>0</td>\n      <td>0</td>\n      <td>0</td>\n      <td>0</td>\n      <td>0</td>\n      <td>0</td>\n      <td>0</td>\n      <td>0</td>\n    </tr>\n    <tr>\n      <th>2</th>\n      <td>0</td>\n      <td>0</td>\n      <td>0</td>\n      <td>0</td>\n      <td>0</td>\n      <td>0</td>\n      <td>0</td>\n      <td>0</td>\n      <td>0</td>\n      <td>0</td>\n      <td>...</td>\n      <td>0</td>\n      <td>0</td>\n      <td>0</td>\n      <td>0</td>\n      <td>0</td>\n      <td>0</td>\n      <td>0</td>\n      <td>0</td>\n      <td>0</td>\n      <td>0</td>\n    </tr>\n    <tr>\n      <th>3</th>\n      <td>0</td>\n      <td>0</td>\n      <td>0</td>\n      <td>0</td>\n      <td>0</td>\n      <td>0</td>\n      <td>0</td>\n      <td>0</td>\n      <td>0</td>\n      <td>0</td>\n      <td>...</td>\n      <td>0</td>\n      <td>0</td>\n      <td>0</td>\n      <td>0</td>\n      <td>0</td>\n      <td>0</td>\n      <td>0</td>\n      <td>0</td>\n      <td>0</td>\n      <td>0</td>\n    </tr>\n    <tr>\n      <th>4</th>\n      <td>0</td>\n      <td>0</td>\n      <td>0</td>\n      <td>0</td>\n      <td>0</td>\n      <td>0</td>\n      <td>0</td>\n      <td>0</td>\n      <td>0</td>\n      <td>0</td>\n      <td>...</td>\n      <td>0</td>\n      <td>0</td>\n      <td>0</td>\n      <td>0</td>\n      <td>0</td>\n      <td>0</td>\n      <td>0</td>\n      <td>0</td>\n      <td>0</td>\n      <td>0</td>\n    </tr>\n    <tr>\n      <th>...</th>\n      <td>...</td>\n      <td>...</td>\n      <td>...</td>\n      <td>...</td>\n      <td>...</td>\n      <td>...</td>\n      <td>...</td>\n      <td>...</td>\n      <td>...</td>\n      <td>...</td>\n      <td>...</td>\n      <td>...</td>\n      <td>...</td>\n      <td>...</td>\n      <td>...</td>\n      <td>...</td>\n      <td>...</td>\n      <td>...</td>\n      <td>...</td>\n      <td>...</td>\n      <td>...</td>\n    </tr>\n    <tr>\n      <th>1417</th>\n      <td>0</td>\n      <td>0</td>\n      <td>0</td>\n      <td>0</td>\n      <td>0</td>\n      <td>0</td>\n      <td>0</td>\n      <td>0</td>\n      <td>0</td>\n      <td>0</td>\n      <td>...</td>\n      <td>0</td>\n      <td>0</td>\n      <td>0</td>\n      <td>0</td>\n      <td>0</td>\n      <td>0</td>\n      <td>0</td>\n      <td>0</td>\n      <td>0</td>\n      <td>0</td>\n    </tr>\n    <tr>\n      <th>1418</th>\n      <td>0</td>\n      <td>0</td>\n      <td>0</td>\n      <td>0</td>\n      <td>0</td>\n      <td>0</td>\n      <td>0</td>\n      <td>0</td>\n      <td>0</td>\n      <td>0</td>\n      <td>...</td>\n      <td>0</td>\n      <td>0</td>\n      <td>0</td>\n      <td>0</td>\n      <td>0</td>\n      <td>0</td>\n      <td>0</td>\n      <td>0</td>\n      <td>0</td>\n      <td>0</td>\n    </tr>\n    <tr>\n      <th>1419</th>\n      <td>0</td>\n      <td>0</td>\n      <td>0</td>\n      <td>0</td>\n      <td>0</td>\n      <td>0</td>\n      <td>0</td>\n      <td>0</td>\n      <td>0</td>\n      <td>0</td>\n      <td>...</td>\n      <td>0</td>\n      <td>0</td>\n      <td>0</td>\n      <td>0</td>\n      <td>0</td>\n      <td>0</td>\n      <td>0</td>\n      <td>0</td>\n      <td>0</td>\n      <td>0</td>\n    </tr>\n    <tr>\n      <th>1420</th>\n      <td>0</td>\n      <td>0</td>\n      <td>0</td>\n      <td>0</td>\n      <td>0</td>\n      <td>0</td>\n      <td>0</td>\n      <td>0</td>\n      <td>0</td>\n      <td>0</td>\n      <td>...</td>\n      <td>0</td>\n      <td>0</td>\n      <td>0</td>\n      <td>0</td>\n      <td>0</td>\n      <td>0</td>\n      <td>0</td>\n      <td>0</td>\n      <td>0</td>\n      <td>0</td>\n    </tr>\n    <tr>\n      <th>1421</th>\n      <td>0</td>\n      <td>0</td>\n      <td>0</td>\n      <td>0</td>\n      <td>0</td>\n      <td>0</td>\n      <td>0</td>\n      <td>0</td>\n      <td>0</td>\n      <td>0</td>\n      <td>...</td>\n      <td>0</td>\n      <td>0</td>\n      <td>0</td>\n      <td>0</td>\n      <td>0</td>\n      <td>0</td>\n      <td>0</td>\n      <td>0</td>\n      <td>0</td>\n      <td>0</td>\n    </tr>\n  </tbody>\n</table>\n<p>1422 rows × 2316 columns</p>\n</div>"
     },
     "metadata": {},
     "execution_count": 26
    }
   ],
   "source": [
    "df_topics = feature_has_string_from_df(df, 'topics', topics)\n",
    "df_topics"
   ]
  },
  {
   "cell_type": "code",
   "execution_count": 27,
   "metadata": {},
   "outputs": [
    {
     "output_type": "execute_result",
     "data": {
      "text/plain": [
       "0xcert                1\n",
       "nanopayments          1\n",
       "nanodegree            1\n",
       "naivechain            1\n",
       "myetherwallet         1\n",
       "                   ... \n",
       "smart-contracts     114\n",
       "bitcoin             164\n",
       "cryptocurrency      182\n",
       "ethereum            315\n",
       "blockchain         1327\n",
       "Length: 2316, dtype: int64"
      ]
     },
     "metadata": {},
     "execution_count": 27
    }
   ],
   "source": [
    "df_topics.sum().sort_values()"
   ]
  },
  {
   "cell_type": "code",
   "execution_count": 32,
   "metadata": {},
   "outputs": [],
   "source": [
    "df.to_csv('dataset-clean.csv')\n",
    "df_languages.to_csv('dataset-languages-clean.csv')\n",
    "df_topics.to_csv('dataset-topics-clean.csv')"
   ]
  },
  {
   "cell_type": "code",
   "execution_count": null,
   "metadata": {},
   "outputs": [],
   "source": []
  }
 ],
 "metadata": {
  "kernelspec": {
   "name": "python3",
   "display_name": "Python 3.8.8 64-bit ('base': conda)"
  },
  "language_info": {
   "codemirror_mode": {
    "name": "ipython",
    "version": 3
   },
   "file_extension": ".py",
   "mimetype": "text/x-python",
   "name": "python",
   "nbconvert_exporter": "python",
   "pygments_lexer": "ipython3",
   "version": "3.8.8"
  },
  "interpreter": {
   "hash": "010b54f1825be09c18f412b79948692e03fb8efcbd4915706a1d6aa8fb5f9e13"
  }
 },
 "nbformat": 4,
 "nbformat_minor": 5
}